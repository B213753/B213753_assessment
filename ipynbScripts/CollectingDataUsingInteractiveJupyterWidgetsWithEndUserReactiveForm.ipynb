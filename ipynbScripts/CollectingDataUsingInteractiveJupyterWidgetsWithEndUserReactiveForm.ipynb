{
 "cells": [
  {
   "cell_type": "markdown",
   "id": "pleased-absolute",
   "metadata": {},
   "source": [
    "# Title: Collecting data using interactive Jupyter widgets  \n",
    "**Author details:** *Author:* Mairead Bermingham. *Contact details:* mairead.bermingham@ed.ac.uk.  \n",
    "**Notebook and data info:** This Notebook provides an example of using interactive jupyter-widgets and to collect the NHS England accident and emergency attendances and admissions (ae_attendances) data (your test data) and save it to your working ‘Data’ folder, and finally saving all the captured test data to your 'RawData'.  \n",
    "**Data:** Data consists of date, numerical data and character data from NHSRdatasets package.  \n",
    "**Copyright statement:** This Notebook is the product of The University of Edinburgh.  \n",
    "\n",
    "# Data\n",
    "The data you will be managing on the course are from the NHSRdatasets package. This package has been created to support skills development in the NHS-R community and contains several free datasets. The dataset set I have chosen to manage from the NHSRdatasets package is the NHS England accident and emergency (A&E) attendances and admissions (`ae_attendances`) data. The `ae_attendances` data includes reported attendances, four-hour breaches and admissions for all A&E departments in England for 2016/17 through 2018/19 (Apr-Mar). We previously selected a subset of the variables needed for my data capture tool, including period, attendances and breaches, and subsetted the data into test and training data. However, for this lesson, we will use the full `ae_attendances` dataset to demonstrate how to use interactive Jupyter-widgets from the *ipywidgets* package to collect all data types from the `ae_attendances` data. The R script \"./RScripts/LoadingNHSRdatasets_fulldata.R\" was used to subset the full `ae_attendances` data into test and training data.\n",
    "\n",
    "**Note**, you only need to set up widgets for the subset of the variables required for your data capture tool. We are using the full data set here, as you will be using interactive Jupyter widgets to collect different variables from your `ae_attendances` data subsets.\n",
    "\n",
    "### The *pandas* package\n",
    "To import the data, you will need to load the *pandas* package. The Python *pandas* package is used for data manipulation and analysis."
   ]
  },
  {
   "cell_type": "code",
   "execution_count": 1,
   "id": "frozen-attendance",
   "metadata": {
    "tags": [
     "remove_cell"
    ]
   },
   "outputs": [
    {
     "data": {
      "text/html": [
       "<div>\n",
       "<style scoped>\n",
       "    .dataframe tbody tr th:only-of-type {\n",
       "        vertical-align: middle;\n",
       "    }\n",
       "\n",
       "    .dataframe tbody tr th {\n",
       "        vertical-align: top;\n",
       "    }\n",
       "\n",
       "    .dataframe thead th {\n",
       "        text-align: right;\n",
       "    }\n",
       "</style>\n",
       "<table border=\"1\" class=\"dataframe\">\n",
       "  <thead>\n",
       "    <tr style=\"text-align: right;\">\n",
       "      <th></th>\n",
       "      <th>ID</th>\n",
       "      <th>Organisation</th>\n",
       "      <th>Age</th>\n",
       "      <th>LOS</th>\n",
       "      <th>Death</th>\n",
       "    </tr>\n",
       "  </thead>\n",
       "  <tbody>\n",
       "    <tr>\n",
       "      <th>0</th>\n",
       "      <td>60</td>\n",
       "      <td>Trust10</td>\n",
       "      <td>12</td>\n",
       "      <td>1</td>\n",
       "      <td>Alive</td>\n",
       "    </tr>\n",
       "    <tr>\n",
       "      <th>1</th>\n",
       "      <td>85</td>\n",
       "      <td>Trust5</td>\n",
       "      <td>90</td>\n",
       "      <td>12</td>\n",
       "      <td>Alive</td>\n",
       "    </tr>\n",
       "    <tr>\n",
       "      <th>2</th>\n",
       "      <td>87</td>\n",
       "      <td>Trust7</td>\n",
       "      <td>26</td>\n",
       "      <td>3</td>\n",
       "      <td>Alive</td>\n",
       "    </tr>\n",
       "    <tr>\n",
       "      <th>3</th>\n",
       "      <td>137</td>\n",
       "      <td>Trust7</td>\n",
       "      <td>78</td>\n",
       "      <td>10</td>\n",
       "      <td>Alive</td>\n",
       "    </tr>\n",
       "    <tr>\n",
       "      <th>4</th>\n",
       "      <td>159</td>\n",
       "      <td>Trust9</td>\n",
       "      <td>53</td>\n",
       "      <td>6</td>\n",
       "      <td>Alive</td>\n",
       "    </tr>\n",
       "    <tr>\n",
       "      <th>5</th>\n",
       "      <td>166</td>\n",
       "      <td>Trust6</td>\n",
       "      <td>18</td>\n",
       "      <td>2</td>\n",
       "      <td>Alive</td>\n",
       "    </tr>\n",
       "    <tr>\n",
       "      <th>6</th>\n",
       "      <td>175</td>\n",
       "      <td>Trust5</td>\n",
       "      <td>77</td>\n",
       "      <td>3</td>\n",
       "      <td>Died</td>\n",
       "    </tr>\n",
       "    <tr>\n",
       "      <th>7</th>\n",
       "      <td>251</td>\n",
       "      <td>Trust1</td>\n",
       "      <td>73</td>\n",
       "      <td>1</td>\n",
       "      <td>Died</td>\n",
       "    </tr>\n",
       "    <tr>\n",
       "      <th>8</th>\n",
       "      <td>293</td>\n",
       "      <td>Trust3</td>\n",
       "      <td>81</td>\n",
       "      <td>8</td>\n",
       "      <td>Died</td>\n",
       "    </tr>\n",
       "    <tr>\n",
       "      <th>9</th>\n",
       "      <td>300</td>\n",
       "      <td>Trust10</td>\n",
       "      <td>93</td>\n",
       "      <td>15</td>\n",
       "      <td>Alive</td>\n",
       "    </tr>\n",
       "  </tbody>\n",
       "</table>\n",
       "</div>"
      ],
      "text/plain": [
       "    ID Organisation  Age  LOS  Death\n",
       "0   60      Trust10   12    1  Alive\n",
       "1   85       Trust5   90   12  Alive\n",
       "2   87       Trust7   26    3  Alive\n",
       "3  137       Trust7   78   10  Alive\n",
       "4  159       Trust9   53    6  Alive\n",
       "5  166       Trust6   18    2  Alive\n",
       "6  175       Trust5   77    3   Died\n",
       "7  251       Trust1   73    1   Died\n",
       "8  293       Trust3   81    8   Died\n",
       "9  300      Trust10   93   15  Alive"
      ]
     },
     "execution_count": 1,
     "metadata": {},
     "output_type": "execute_result"
    }
   ],
   "source": [
    "#Load the 'pandas' package\n",
    "import pandas as pd\n",
    "testData=pd.read_csv(\"../Data/LOS_test.csv\")\n",
    "testData"
   ]
  },
  {
   "cell_type": "markdown",
   "id": "specific-location",
   "metadata": {},
   "source": [
    "#### Data type\n",
    "We now need to check the data type in the testData data frame. Let us use the `dtypes` function from the Python *pandas* package to query the data types in the testData. The `dtypes` function returns the data types in the data frame."
   ]
  },
  {
   "cell_type": "code",
   "execution_count": 2,
   "id": "friendly-pennsylvania",
   "metadata": {
    "tags": [
     "hide-input"
    ]
   },
   "outputs": [
    {
     "name": "stdout",
     "output_type": "stream",
     "text": [
      "Output:\n",
      "ID               int64\n",
      "Organisation    object\n",
      "Age              int64\n",
      "LOS              int64\n",
      "Death           object\n",
      "dtype: object\n"
     ]
    }
   ],
   "source": [
    "result = testData.dtypes\n",
    "print(\"Output:\")\n",
    "print(result)"
   ]
  },
  {
   "cell_type": "markdown",
   "id": "broken-consciousness",
   "metadata": {},
   "source": [
    "The data type object is a string"
   ]
  },
  {
   "cell_type": "markdown",
   "id": "illegal-weekend",
   "metadata": {},
   "source": [
    "Now let us collect the first row of data from the test data. \n",
    "Use the `df.head()` function to see the first row in the data frame(df).\n",
    "\n",
    "##### The `head()` function\n",
    "The `head()` function lets you look at the top n rows of a data frame. By default, it shows the first five rows in a data frame. We can specify the number of rows we want to see in a data frame with the argument “n”. For example, look at the first row (n=1) of the test data:"
   ]
  },
  {
   "cell_type": "code",
   "execution_count": 3,
   "id": "separated-bottle",
   "metadata": {},
   "outputs": [
    {
     "data": {
      "text/html": [
       "<div>\n",
       "<style scoped>\n",
       "    .dataframe tbody tr th:only-of-type {\n",
       "        vertical-align: middle;\n",
       "    }\n",
       "\n",
       "    .dataframe tbody tr th {\n",
       "        vertical-align: top;\n",
       "    }\n",
       "\n",
       "    .dataframe thead th {\n",
       "        text-align: right;\n",
       "    }\n",
       "</style>\n",
       "<table border=\"1\" class=\"dataframe\">\n",
       "  <thead>\n",
       "    <tr style=\"text-align: right;\">\n",
       "      <th></th>\n",
       "      <th>ID</th>\n",
       "      <th>Organisation</th>\n",
       "      <th>Age</th>\n",
       "      <th>LOS</th>\n",
       "      <th>Death</th>\n",
       "    </tr>\n",
       "  </thead>\n",
       "  <tbody>\n",
       "    <tr>\n",
       "      <th>0</th>\n",
       "      <td>60</td>\n",
       "      <td>Trust10</td>\n",
       "      <td>12</td>\n",
       "      <td>1</td>\n",
       "      <td>Alive</td>\n",
       "    </tr>\n",
       "  </tbody>\n",
       "</table>\n",
       "</div>"
      ],
      "text/plain": [
       "   ID Organisation  Age  LOS  Death\n",
       "0  60      Trust10   12    1  Alive"
      ]
     },
     "execution_count": 3,
     "metadata": {},
     "output_type": "execute_result"
    }
   ],
   "source": [
    "testData.head(n=1)"
   ]
  },
  {
   "cell_type": "markdown",
   "id": "hydraulic-checkout",
   "metadata": {},
   "source": [
    "We need to set up an empty data frame in the working data folder to collect the data captured by the Juypter widgets."
   ]
  },
  {
   "cell_type": "code",
   "execution_count": 4,
   "id": "residential-index",
   "metadata": {
    "tags": [
     "hide-input"
    ]
   },
   "outputs": [
    {
     "data": {
      "text/html": [
       "<div>\n",
       "<style scoped>\n",
       "    .dataframe tbody tr th:only-of-type {\n",
       "        vertical-align: middle;\n",
       "    }\n",
       "\n",
       "    .dataframe tbody tr th {\n",
       "        vertical-align: top;\n",
       "    }\n",
       "\n",
       "    .dataframe thead th {\n",
       "        text-align: right;\n",
       "    }\n",
       "</style>\n",
       "<table border=\"1\" class=\"dataframe\">\n",
       "  <thead>\n",
       "    <tr style=\"text-align: right;\">\n",
       "      <th></th>\n",
       "      <th>index</th>\n",
       "      <th>period</th>\n",
       "      <th>org_code</th>\n",
       "      <th>type</th>\n",
       "      <th>attendances</th>\n",
       "      <th>breaches</th>\n",
       "      <th>admissions</th>\n",
       "      <th>performance</th>\n",
       "      <th>consent</th>\n",
       "    </tr>\n",
       "  </thead>\n",
       "  <tbody>\n",
       "    <tr>\n",
       "      <th>0</th>\n",
       "      <td>0</td>\n",
       "      <td>2000-01-01</td>\n",
       "      <td>NA</td>\n",
       "      <td>NA</td>\n",
       "      <td>0</td>\n",
       "      <td>0</td>\n",
       "      <td>0</td>\n",
       "      <td>0.0</td>\n",
       "      <td>False</td>\n",
       "    </tr>\n",
       "  </tbody>\n",
       "</table>\n",
       "</div>"
      ],
      "text/plain": [
       "   index     period org_code type  attendances  breaches  admissions  \\\n",
       "0      0 2000-01-01       NA   NA            0         0           0   \n",
       "\n",
       "   performance  consent  \n",
       "0          0.0    False  "
      ]
     },
     "execution_count": 4,
     "metadata": {},
     "output_type": "execute_result"
    }
   ],
   "source": [
    "dfTofill = pd.DataFrame({'index': [0],# Integer\n",
    "                   'period': [pd.Timestamp('20000101')], # Date\n",
    "                   'org_code': ['NA'], # String\n",
    "                   'type': ['NA'], # String\n",
    "                   'attendances': [0], # Integer\n",
    "                   'breaches': [0], # Integer\n",
    "                   'admissions': [0], # Integer\n",
    "                   'performance': [0.0], # Float\n",
    "                   'consent': [False]}) # Boolean \n",
    "\n",
    "dfTofill"
   ]
  },
  {
   "cell_type": "markdown",
   "id": "located-recruitment",
   "metadata": {},
   "source": [
    "Save the empty data frame to your working 'Data' folder:"
   ]
  },
  {
   "cell_type": "code",
   "execution_count": 5,
   "id": "animated-envelope",
   "metadata": {
    "tags": [
     "hide-input"
    ]
   },
   "outputs": [],
   "source": [
    "#dfTofill.to_csv('../Data/CollectedData.csv', index=False)"
   ]
  },
  {
   "cell_type": "markdown",
   "id": "spiritual-comparative",
   "metadata": {},
   "source": [
    "The empty data frame is now saved to the working 'Data' folder. Now make sure to comment out the last cell (Ctrl+/), as you only need to do this once. Now let's read in the empty data frame to collect the data from the Jupyter-widgets."
   ]
  },
  {
   "cell_type": "code",
   "execution_count": 6,
   "id": "quantitative-wholesale",
   "metadata": {},
   "outputs": [
    {
     "data": {
      "text/html": [
       "<div>\n",
       "<style scoped>\n",
       "    .dataframe tbody tr th:only-of-type {\n",
       "        vertical-align: middle;\n",
       "    }\n",
       "\n",
       "    .dataframe tbody tr th {\n",
       "        vertical-align: top;\n",
       "    }\n",
       "\n",
       "    .dataframe thead th {\n",
       "        text-align: right;\n",
       "    }\n",
       "</style>\n",
       "<table border=\"1\" class=\"dataframe\">\n",
       "  <thead>\n",
       "    <tr style=\"text-align: right;\">\n",
       "      <th></th>\n",
       "      <th>ID</th>\n",
       "      <th>Organisation</th>\n",
       "      <th>Age</th>\n",
       "      <th>LOS</th>\n",
       "      <th>Death</th>\n",
       "      <th>consent</th>\n",
       "    </tr>\n",
       "  </thead>\n",
       "  <tbody>\n",
       "    <tr>\n",
       "      <th>0</th>\n",
       "      <td>4</td>\n",
       "      <td>Trust3</td>\n",
       "      <td>0</td>\n",
       "      <td>0</td>\n",
       "      <td>Alive</td>\n",
       "      <td>True</td>\n",
       "    </tr>\n",
       "    <tr>\n",
       "      <th>1</th>\n",
       "      <td>9</td>\n",
       "      <td>Trust9</td>\n",
       "      <td>51</td>\n",
       "      <td>7</td>\n",
       "      <td>Died</td>\n",
       "      <td>True</td>\n",
       "    </tr>\n",
       "    <tr>\n",
       "      <th>2</th>\n",
       "      <td>46</td>\n",
       "      <td>Trust6</td>\n",
       "      <td>49</td>\n",
       "      <td>7</td>\n",
       "      <td>Alive</td>\n",
       "      <td>True</td>\n",
       "    </tr>\n",
       "    <tr>\n",
       "      <th>3</th>\n",
       "      <td>112</td>\n",
       "      <td>Trust2</td>\n",
       "      <td>19</td>\n",
       "      <td>3</td>\n",
       "      <td>Alive</td>\n",
       "      <td>True</td>\n",
       "    </tr>\n",
       "    <tr>\n",
       "      <th>4</th>\n",
       "      <td>114</td>\n",
       "      <td>Trust4</td>\n",
       "      <td>23</td>\n",
       "      <td>3</td>\n",
       "      <td>Alive</td>\n",
       "      <td>True</td>\n",
       "    </tr>\n",
       "    <tr>\n",
       "      <th>5</th>\n",
       "      <td>135</td>\n",
       "      <td>Trust5</td>\n",
       "      <td>93</td>\n",
       "      <td>10</td>\n",
       "      <td>Alive</td>\n",
       "      <td>True</td>\n",
       "    </tr>\n",
       "    <tr>\n",
       "      <th>6</th>\n",
       "      <td>187</td>\n",
       "      <td>Trust7</td>\n",
       "      <td>33</td>\n",
       "      <td>4</td>\n",
       "      <td>Died</td>\n",
       "      <td>True</td>\n",
       "    </tr>\n",
       "    <tr>\n",
       "      <th>7</th>\n",
       "      <td>204</td>\n",
       "      <td>Trust4</td>\n",
       "      <td>27</td>\n",
       "      <td>2</td>\n",
       "      <td>Alive</td>\n",
       "      <td>True</td>\n",
       "    </tr>\n",
       "    <tr>\n",
       "      <th>8</th>\n",
       "      <td>213</td>\n",
       "      <td>Trust3</td>\n",
       "      <td>48</td>\n",
       "      <td>5</td>\n",
       "      <td>Alive</td>\n",
       "      <td>True</td>\n",
       "    </tr>\n",
       "    <tr>\n",
       "      <th>9</th>\n",
       "      <td>244</td>\n",
       "      <td>Trust4</td>\n",
       "      <td>76</td>\n",
       "      <td>9</td>\n",
       "      <td>Alive</td>\n",
       "      <td>True</td>\n",
       "    </tr>\n",
       "    <tr>\n",
       "      <th>10</th>\n",
       "      <td>260</td>\n",
       "      <td>Trust10</td>\n",
       "      <td>11</td>\n",
       "      <td>1</td>\n",
       "      <td>Alive</td>\n",
       "      <td>True</td>\n",
       "    </tr>\n",
       "    <tr>\n",
       "      <th>11</th>\n",
       "      <td>267</td>\n",
       "      <td>Trust7</td>\n",
       "      <td>79</td>\n",
       "      <td>10</td>\n",
       "      <td>Alive</td>\n",
       "      <td>True</td>\n",
       "    </tr>\n",
       "  </tbody>\n",
       "</table>\n",
       "</div>"
      ],
      "text/plain": [
       "     ID Organisation  Age  LOS  Death  consent\n",
       "0     4       Trust3    0    0  Alive     True\n",
       "1     9       Trust9   51    7   Died     True\n",
       "2    46       Trust6   49    7  Alive     True\n",
       "3   112       Trust2   19    3  Alive     True\n",
       "4   114       Trust4   23    3  Alive     True\n",
       "5   135       Trust5   93   10  Alive     True\n",
       "6   187       Trust7   33    4   Died     True\n",
       "7   204       Trust4   27    2  Alive     True\n",
       "8   213       Trust3   48    5  Alive     True\n",
       "9   244       Trust4   76    9  Alive     True\n",
       "10  260      Trust10   11    1  Alive     True\n",
       "11  267       Trust7   79   10  Alive     True"
      ]
     },
     "execution_count": 6,
     "metadata": {},
     "output_type": "execute_result"
    }
   ],
   "source": [
    "CollectData=pd.read_csv(\"../Data/CollectedData.csv\")\n",
    "CollectData"
   ]
  },
  {
   "cell_type": "markdown",
   "id": "monetary-millennium",
   "metadata": {},
   "source": [
    "Now let us collect the first row of data from the test data. \n",
    "Use the `df.head()` function to see the first row in the data frame(df).\n",
    "\n",
    "##### The `head()` function\n",
    "The `head()` function lets you look at the top n rows of a data frame. By default, it shows the first five rows in a data frame. We can specify the number of rows we want to see in a data frame with the argument “n”. For example, look at the first row (n=1) of the test data:"
   ]
  },
  {
   "cell_type": "code",
   "execution_count": 7,
   "id": "bridal-heart",
   "metadata": {},
   "outputs": [
    {
     "data": {
      "text/html": [
       "<div>\n",
       "<style scoped>\n",
       "    .dataframe tbody tr th:only-of-type {\n",
       "        vertical-align: middle;\n",
       "    }\n",
       "\n",
       "    .dataframe tbody tr th {\n",
       "        vertical-align: top;\n",
       "    }\n",
       "\n",
       "    .dataframe thead th {\n",
       "        text-align: right;\n",
       "    }\n",
       "</style>\n",
       "<table border=\"1\" class=\"dataframe\">\n",
       "  <thead>\n",
       "    <tr style=\"text-align: right;\">\n",
       "      <th></th>\n",
       "      <th>ID</th>\n",
       "      <th>Organisation</th>\n",
       "      <th>Age</th>\n",
       "      <th>LOS</th>\n",
       "      <th>Death</th>\n",
       "    </tr>\n",
       "  </thead>\n",
       "  <tbody>\n",
       "    <tr>\n",
       "      <th>0</th>\n",
       "      <td>60</td>\n",
       "      <td>Trust10</td>\n",
       "      <td>12</td>\n",
       "      <td>1</td>\n",
       "      <td>Alive</td>\n",
       "    </tr>\n",
       "  </tbody>\n",
       "</table>\n",
       "</div>"
      ],
      "text/plain": [
       "   ID Organisation  Age  LOS  Death\n",
       "0  60      Trust10   12    1  Alive"
      ]
     },
     "execution_count": 7,
     "metadata": {},
     "output_type": "execute_result"
    }
   ],
   "source": [
    "testData.head(n=1)"
   ]
  },
  {
   "cell_type": "markdown",
   "id": "sealed-chemistry",
   "metadata": {},
   "source": [
    "# Index variable \n",
    "The first variable contains the index number, that allows us to connect the test data to the orginal data set \"../RawData/ae_attendances.csv\". We will have to use indexing to to add the index number to the 'dfTofill' file\n",
    "\n",
    "###  Indexing in Python\n",
    "Indexing in Python is a way to refer the individual items by its position. In other words, you can directly access your elements of choice. In Python, objects are “zero-indexed” meaning the position count starts at zero. "
   ]
  },
  {
   "cell_type": "code",
   "execution_count": 8,
   "id": "entire-soundtrack",
   "metadata": {},
   "outputs": [
    {
     "data": {
      "text/html": [
       "<div>\n",
       "<style scoped>\n",
       "    .dataframe tbody tr th:only-of-type {\n",
       "        vertical-align: middle;\n",
       "    }\n",
       "\n",
       "    .dataframe tbody tr th {\n",
       "        vertical-align: top;\n",
       "    }\n",
       "\n",
       "    .dataframe thead th {\n",
       "        text-align: right;\n",
       "    }\n",
       "</style>\n",
       "<table border=\"1\" class=\"dataframe\">\n",
       "  <thead>\n",
       "    <tr style=\"text-align: right;\">\n",
       "      <th></th>\n",
       "      <th>index</th>\n",
       "      <th>period</th>\n",
       "      <th>org_code</th>\n",
       "      <th>type</th>\n",
       "      <th>attendances</th>\n",
       "      <th>breaches</th>\n",
       "      <th>admissions</th>\n",
       "      <th>performance</th>\n",
       "      <th>consent</th>\n",
       "    </tr>\n",
       "  </thead>\n",
       "  <tbody>\n",
       "    <tr>\n",
       "      <th>0</th>\n",
       "      <td>1155</td>\n",
       "      <td>2000-01-01</td>\n",
       "      <td>NA</td>\n",
       "      <td>NA</td>\n",
       "      <td>0</td>\n",
       "      <td>0</td>\n",
       "      <td>0</td>\n",
       "      <td>0.0</td>\n",
       "      <td>False</td>\n",
       "    </tr>\n",
       "  </tbody>\n",
       "</table>\n",
       "</div>"
      ],
      "text/plain": [
       "   index     period org_code type  attendances  breaches  admissions  \\\n",
       "0   1155 2000-01-01       NA   NA            0         0           0   \n",
       "\n",
       "   performance  consent  \n",
       "0          0.0    False  "
      ]
     },
     "execution_count": 8,
     "metadata": {},
     "output_type": "execute_result"
    }
   ],
   "source": [
    "index_number=1155 #Remember to change for each record.\n",
    "dfTofill.iloc[0,0]=index_number\n",
    "dfTofill"
   ]
  },
  {
   "cell_type": "markdown",
   "id": "attempted-understanding",
   "metadata": {},
   "source": [
    "# Widgets\n",
    "Widgets are interactive Python objects that have a representation in the browser. A widget is a graphical user interface element, such as a button, dropdown or textbox. Widgets can be embedded in the Notebook and provide a user-friendly interface to collect the user input and see the impact the changes have on the data/results without interacting with your code. Widgets can transform your notebooks from static documents to dynamic dashboards, ideal for showcasing your data story.\n",
    "\n",
    "To use the widget framework, you need to import the *ipywidgets* Python package. The *ipywidgets* package provides a list of widgets commonly used in web apps and dashboards like dropdown, checkbox, radio buttons, etc."
   ]
  },
  {
   "cell_type": "code",
   "execution_count": 9,
   "id": "accredited-contrary",
   "metadata": {},
   "outputs": [],
   "source": [
    "#Load the 'ipywidgets' package\n",
    "import ipywidgets as widgets"
   ]
  },
  {
   "cell_type": "markdown",
   "id": "adjusted-medium",
   "metadata": {},
   "source": [
    "### `display()`\n",
    "\n",
    "The *IPython.display* package is used to display different objects in Jupyter. \n",
    "You can also explicitly display a widget using the `display()` function from the *IPython.display* package"
   ]
  },
  {
   "cell_type": "code",
   "execution_count": 10,
   "id": "numerous-constitution",
   "metadata": {},
   "outputs": [],
   "source": [
    "#Load the 'IPython.display' package\n",
    "from IPython.display import display"
   ]
  },
  {
   "cell_type": "markdown",
   "id": "covered-effects",
   "metadata": {},
   "source": [
    "# Consent\n",
    "Consent is a vital area for data protection compliance. Consent means giving data subjects genuine choice and control over how you process their data. If the data subject has no real choice, consent is not freely given, and it will be invalid. The [General Data Protection Regulation](https://eu01.alma.exlibrisgroup.com/leganto/public/44UOE_INST/citation/37632538310002466?auth=SAML) sets a high standard for consent and contains significantly more detail than previous data protection legislation. Consent is defined in Article 4 as: “Consent of the data subject means any freely given, specific informed and unambiguous indication of the data subject’s wishes by which he or she, by a statement or by a clear affirmative action, signifies agreement to the processing of personal data relating to him or her”.\n",
    "\n",
    "Before we collect any data, we need to get consent from the end-user to process and share the data we will collect with the data capture tool."
   ]
  },
  {
   "cell_type": "markdown",
   "id": "union-gnome",
   "metadata": {},
   "source": [
    "## Boolean widgets\n",
    "Boolean widgets are designed to display a boolean value.\n",
    "\n",
    "### Checkbox widget"
   ]
  },
  {
   "cell_type": "code",
   "execution_count": 11,
   "id": "impaired-justice",
   "metadata": {
    "tags": [
     "hide-input"
    ]
   },
   "outputs": [],
   "source": [
    "a = widgets.Checkbox(\n",
    "    value=False,\n",
    "    description='I consent for the data I have provided to be processed and shared in accordance with data protection regulations with the purpose of improving care service provision across the UK.',\n",
    "    disabled=False\n",
    ")"
   ]
  },
  {
   "cell_type": "code",
   "execution_count": 12,
   "id": "compact-worship",
   "metadata": {
    "tags": [
     "hide-input"
    ]
   },
   "outputs": [
    {
     "data": {
      "application/vnd.jupyter.widget-view+json": {
       "model_id": "a195932604f046a9b74221e8ffab3919",
       "version_major": 2,
       "version_minor": 0
      },
      "text/plain": [
       "Checkbox(value=False, description='I consent for the data I have provided to be processed and shared in accord…"
      ]
     },
     "metadata": {},
     "output_type": "display_data"
    }
   ],
   "source": [
    "display(a)"
   ]
  },
  {
   "cell_type": "code",
   "execution_count": 13,
   "id": "comfortable-lighter",
   "metadata": {},
   "outputs": [
    {
     "data": {
      "text/html": [
       "<div>\n",
       "<style scoped>\n",
       "    .dataframe tbody tr th:only-of-type {\n",
       "        vertical-align: middle;\n",
       "    }\n",
       "\n",
       "    .dataframe tbody tr th {\n",
       "        vertical-align: top;\n",
       "    }\n",
       "\n",
       "    .dataframe thead th {\n",
       "        text-align: right;\n",
       "    }\n",
       "</style>\n",
       "<table border=\"1\" class=\"dataframe\">\n",
       "  <thead>\n",
       "    <tr style=\"text-align: right;\">\n",
       "      <th></th>\n",
       "      <th>index</th>\n",
       "      <th>period</th>\n",
       "      <th>org_code</th>\n",
       "      <th>type</th>\n",
       "      <th>attendances</th>\n",
       "      <th>breaches</th>\n",
       "      <th>admissions</th>\n",
       "      <th>performance</th>\n",
       "      <th>consent</th>\n",
       "    </tr>\n",
       "  </thead>\n",
       "  <tbody>\n",
       "    <tr>\n",
       "      <th>0</th>\n",
       "      <td>1155</td>\n",
       "      <td>2000-01-01</td>\n",
       "      <td>NA</td>\n",
       "      <td>NA</td>\n",
       "      <td>0</td>\n",
       "      <td>0</td>\n",
       "      <td>0</td>\n",
       "      <td>0.0</td>\n",
       "      <td>False</td>\n",
       "    </tr>\n",
       "  </tbody>\n",
       "</table>\n",
       "</div>"
      ],
      "text/plain": [
       "   index     period org_code type  attendances  breaches  admissions  \\\n",
       "0   1155 2000-01-01       NA   NA            0         0           0   \n",
       "\n",
       "   performance  consent  \n",
       "0          0.0    False  "
      ]
     },
     "execution_count": 13,
     "metadata": {},
     "output_type": "execute_result"
    }
   ],
   "source": [
    "dfTofill.iloc[0,8]=a.value\n",
    "dfTofill"
   ]
  },
  {
   "cell_type": "markdown",
   "id": "reported-arrest",
   "metadata": {},
   "source": [
    "# The period variable  \n",
    "The period variable includes the month this activity relates to, stored as a date (1st of each month).  \n",
    "\n",
    "#### Data type\n",
    "We now need to check the data type in the testData data frame. Let us use the `dtypes` function from the Python *pandas* package to query the data types in the testData. The `dtypes` function returns the data types in the data frame."
   ]
  },
  {
   "cell_type": "code",
   "execution_count": 14,
   "id": "higher-framework",
   "metadata": {},
   "outputs": [
    {
     "name": "stdout",
     "output_type": "stream",
     "text": [
      "object\n"
     ]
    }
   ],
   "source": [
    "print(result[1])\n",
    "#String data type"
   ]
  },
  {
   "cell_type": "markdown",
   "id": "mature-persian",
   "metadata": {},
   "source": [
    "The data type object is a string."
   ]
  },
  {
   "cell_type": "markdown",
   "id": "continent-camcorder",
   "metadata": {},
   "source": [
    "##### The `head()` function\n",
    "The `head()` function lets you look at the top n rows of a data frame. By default, it shows the first five rows in a data frame. We can specify the number of rows we want to see in a data frame with the argument “n”. For example, look at the first row (n=1) of the test data:"
   ]
  },
  {
   "cell_type": "code",
   "execution_count": 15,
   "id": "reliable-acrobat",
   "metadata": {},
   "outputs": [
    {
     "data": {
      "text/html": [
       "<div>\n",
       "<style scoped>\n",
       "    .dataframe tbody tr th:only-of-type {\n",
       "        vertical-align: middle;\n",
       "    }\n",
       "\n",
       "    .dataframe tbody tr th {\n",
       "        vertical-align: top;\n",
       "    }\n",
       "\n",
       "    .dataframe thead th {\n",
       "        text-align: right;\n",
       "    }\n",
       "</style>\n",
       "<table border=\"1\" class=\"dataframe\">\n",
       "  <thead>\n",
       "    <tr style=\"text-align: right;\">\n",
       "      <th></th>\n",
       "      <th>ID</th>\n",
       "      <th>Organisation</th>\n",
       "      <th>Age</th>\n",
       "      <th>LOS</th>\n",
       "      <th>Death</th>\n",
       "    </tr>\n",
       "  </thead>\n",
       "  <tbody>\n",
       "    <tr>\n",
       "      <th>0</th>\n",
       "      <td>60</td>\n",
       "      <td>Trust10</td>\n",
       "      <td>12</td>\n",
       "      <td>1</td>\n",
       "      <td>Alive</td>\n",
       "    </tr>\n",
       "  </tbody>\n",
       "</table>\n",
       "</div>"
      ],
      "text/plain": [
       "   ID Organisation  Age  LOS  Death\n",
       "0  60      Trust10   12    1  Alive"
      ]
     },
     "execution_count": 15,
     "metadata": {},
     "output_type": "execute_result"
    }
   ],
   "source": [
    "testData.head(n=1)"
   ]
  },
  {
   "cell_type": "markdown",
   "id": "interpreted-cooper",
   "metadata": {},
   "source": [
    "### DatePicker widget \n",
    "We next need to set up a DatePicker widget to collect the period data."
   ]
  },
  {
   "cell_type": "code",
   "execution_count": 16,
   "id": "coastal-delivery",
   "metadata": {},
   "outputs": [
    {
     "data": {
      "application/vnd.jupyter.widget-view+json": {
       "model_id": "0a0fa54debc243f186195c398f46d19c",
       "version_major": 2,
       "version_minor": 0
      },
      "text/plain": [
       "DatePicker(value=None, description='Period')"
      ]
     },
     "metadata": {},
     "output_type": "display_data"
    }
   ],
   "source": [
    "b = widgets.DatePicker(\n",
    "    description='Period',\n",
    "    disabled=False\n",
    ")\n",
    "display(b)"
   ]
  },
  {
   "cell_type": "code",
   "execution_count": 17,
   "id": "touched-donor",
   "metadata": {
    "tags": [
     "hide-input"
    ]
   },
   "outputs": [
    {
     "data": {
      "text/html": [
       "<div>\n",
       "<style scoped>\n",
       "    .dataframe tbody tr th:only-of-type {\n",
       "        vertical-align: middle;\n",
       "    }\n",
       "\n",
       "    .dataframe tbody tr th {\n",
       "        vertical-align: top;\n",
       "    }\n",
       "\n",
       "    .dataframe thead th {\n",
       "        text-align: right;\n",
       "    }\n",
       "</style>\n",
       "<table border=\"1\" class=\"dataframe\">\n",
       "  <thead>\n",
       "    <tr style=\"text-align: right;\">\n",
       "      <th></th>\n",
       "      <th>index</th>\n",
       "      <th>period</th>\n",
       "      <th>org_code</th>\n",
       "      <th>type</th>\n",
       "      <th>attendances</th>\n",
       "      <th>breaches</th>\n",
       "      <th>admissions</th>\n",
       "      <th>performance</th>\n",
       "      <th>consent</th>\n",
       "    </tr>\n",
       "  </thead>\n",
       "  <tbody>\n",
       "    <tr>\n",
       "      <th>0</th>\n",
       "      <td>1155</td>\n",
       "      <td>NaT</td>\n",
       "      <td>NA</td>\n",
       "      <td>NA</td>\n",
       "      <td>0</td>\n",
       "      <td>0</td>\n",
       "      <td>0</td>\n",
       "      <td>0.0</td>\n",
       "      <td>False</td>\n",
       "    </tr>\n",
       "  </tbody>\n",
       "</table>\n",
       "</div>"
      ],
      "text/plain": [
       "   index period org_code type  attendances  breaches  admissions  performance  \\\n",
       "0   1155    NaT       NA   NA            0         0           0          0.0   \n",
       "\n",
       "   consent  \n",
       "0    False  "
      ]
     },
     "execution_count": 17,
     "metadata": {},
     "output_type": "execute_result"
    }
   ],
   "source": [
    "dfTofill.iloc[0,1]=b.value\n",
    "dfTofill"
   ]
  },
  {
   "cell_type": "markdown",
   "id": "static-fitness",
   "metadata": {},
   "source": [
    "## The org_code variable\n",
    "The org_code variable includes the Organisation data service (ODS) code for the organisation. The ODS code is a unique code created by the Organisation data service within [NHS Digital](_https://www.digitalsocialcare.co.uk/latest-guidance/how-to-find-your-ods-code/), and used to identify organisations across health and social care. ODS codes are required in order to gain access to national systems like NHSmail and the Data Security and Protection Toolkit. If you want to know the organisation associated with a particular ODS code, you can look it up from the following address: <https://odsportal.digital.nhs.uk/Organisation/Search>. For example, the organisation associated with the ODS code 'AF003' is\n",
    "[Parkway health centre](https://odsportal.digital.nhs.uk/Organisation/OrganisationDetails?organisationId=132839&showOpenChildredOnly=True).      "
   ]
  },
  {
   "cell_type": "markdown",
   "id": "infectious-mistake",
   "metadata": {},
   "source": [
    "#### Data type\n",
    "We now need to check the data type in the testData data frame. Let us use the `dtypes` function from the Python *pandas* package to query the data types in the testData. The `dtypes` function returns the data types in the data frame."
   ]
  },
  {
   "cell_type": "code",
   "execution_count": 18,
   "id": "aware-genetics",
   "metadata": {},
   "outputs": [
    {
     "name": "stdout",
     "output_type": "stream",
     "text": [
      "int64\n"
     ]
    }
   ],
   "source": [
    "print(result[2])\n",
    "#String data type"
   ]
  },
  {
   "cell_type": "markdown",
   "id": "thick-sheriff",
   "metadata": {},
   "source": [
    "The data type object is a string.\n",
    "\n",
    "#### Describe the test data\n",
    "Here we are going to use the `describe()` function from the *numpy* Python package to calculate summary statistics for the testData data frame. The numpy package is the core package for scientific computing in Python. The `describe()` function from the *numpy* package computes the descriptive statistics."
   ]
  },
  {
   "cell_type": "code",
   "execution_count": 19,
   "id": "unexpected-devices",
   "metadata": {
    "tags": [
     "hide-input"
    ]
   },
   "outputs": [
    {
     "data": {
      "text/html": [
       "<div>\n",
       "<style scoped>\n",
       "    .dataframe tbody tr th:only-of-type {\n",
       "        vertical-align: middle;\n",
       "    }\n",
       "\n",
       "    .dataframe tbody tr th {\n",
       "        vertical-align: top;\n",
       "    }\n",
       "\n",
       "    .dataframe thead th {\n",
       "        text-align: right;\n",
       "    }\n",
       "</style>\n",
       "<table border=\"1\" class=\"dataframe\">\n",
       "  <thead>\n",
       "    <tr style=\"text-align: right;\">\n",
       "      <th></th>\n",
       "      <th>ID</th>\n",
       "      <th>Organisation</th>\n",
       "      <th>Age</th>\n",
       "      <th>LOS</th>\n",
       "      <th>Death</th>\n",
       "    </tr>\n",
       "  </thead>\n",
       "  <tbody>\n",
       "    <tr>\n",
       "      <th>count</th>\n",
       "      <td>10.000000</td>\n",
       "      <td>10</td>\n",
       "      <td>10.000000</td>\n",
       "      <td>10.000000</td>\n",
       "      <td>10</td>\n",
       "    </tr>\n",
       "    <tr>\n",
       "      <th>unique</th>\n",
       "      <td>NaN</td>\n",
       "      <td>7</td>\n",
       "      <td>NaN</td>\n",
       "      <td>NaN</td>\n",
       "      <td>2</td>\n",
       "    </tr>\n",
       "    <tr>\n",
       "      <th>top</th>\n",
       "      <td>NaN</td>\n",
       "      <td>Trust10</td>\n",
       "      <td>NaN</td>\n",
       "      <td>NaN</td>\n",
       "      <td>Alive</td>\n",
       "    </tr>\n",
       "    <tr>\n",
       "      <th>freq</th>\n",
       "      <td>NaN</td>\n",
       "      <td>2</td>\n",
       "      <td>NaN</td>\n",
       "      <td>NaN</td>\n",
       "      <td>7</td>\n",
       "    </tr>\n",
       "    <tr>\n",
       "      <th>mean</th>\n",
       "      <td>171.300000</td>\n",
       "      <td>NaN</td>\n",
       "      <td>60.100000</td>\n",
       "      <td>6.100000</td>\n",
       "      <td>NaN</td>\n",
       "    </tr>\n",
       "    <tr>\n",
       "      <th>std</th>\n",
       "      <td>85.659598</td>\n",
       "      <td>NaN</td>\n",
       "      <td>30.704506</td>\n",
       "      <td>4.954235</td>\n",
       "      <td>NaN</td>\n",
       "    </tr>\n",
       "    <tr>\n",
       "      <th>min</th>\n",
       "      <td>60.000000</td>\n",
       "      <td>NaN</td>\n",
       "      <td>12.000000</td>\n",
       "      <td>1.000000</td>\n",
       "      <td>NaN</td>\n",
       "    </tr>\n",
       "    <tr>\n",
       "      <th>25%</th>\n",
       "      <td>99.500000</td>\n",
       "      <td>NaN</td>\n",
       "      <td>32.750000</td>\n",
       "      <td>2.250000</td>\n",
       "      <td>NaN</td>\n",
       "    </tr>\n",
       "    <tr>\n",
       "      <th>50%</th>\n",
       "      <td>162.500000</td>\n",
       "      <td>NaN</td>\n",
       "      <td>75.000000</td>\n",
       "      <td>4.500000</td>\n",
       "      <td>NaN</td>\n",
       "    </tr>\n",
       "    <tr>\n",
       "      <th>75%</th>\n",
       "      <td>232.000000</td>\n",
       "      <td>NaN</td>\n",
       "      <td>80.250000</td>\n",
       "      <td>9.500000</td>\n",
       "      <td>NaN</td>\n",
       "    </tr>\n",
       "    <tr>\n",
       "      <th>max</th>\n",
       "      <td>300.000000</td>\n",
       "      <td>NaN</td>\n",
       "      <td>93.000000</td>\n",
       "      <td>15.000000</td>\n",
       "      <td>NaN</td>\n",
       "    </tr>\n",
       "  </tbody>\n",
       "</table>\n",
       "</div>"
      ],
      "text/plain": [
       "                ID Organisation        Age        LOS  Death\n",
       "count    10.000000           10  10.000000  10.000000     10\n",
       "unique         NaN            7        NaN        NaN      2\n",
       "top            NaN      Trust10        NaN        NaN  Alive\n",
       "freq           NaN            2        NaN        NaN      7\n",
       "mean    171.300000          NaN  60.100000   6.100000    NaN\n",
       "std      85.659598          NaN  30.704506   4.954235    NaN\n",
       "min      60.000000          NaN  12.000000   1.000000    NaN\n",
       "25%      99.500000          NaN  32.750000   2.250000    NaN\n",
       "50%     162.500000          NaN  75.000000   4.500000    NaN\n",
       "75%     232.000000          NaN  80.250000   9.500000    NaN\n",
       "max     300.000000          NaN  93.000000  15.000000    NaN"
      ]
     },
     "execution_count": 19,
     "metadata": {},
     "output_type": "execute_result"
    }
   ],
   "source": [
    "#Load the 'numpy' package\n",
    "import numpy as np\n",
    "testData.describe(include='all')"
   ]
  },
  {
   "cell_type": "markdown",
   "id": "grave-consciousness",
   "metadata": {},
   "source": [
    "#### Applying *pandas* `unique()` function\n",
    "We must first use the *pandas* package `unique()` function to get the unique Organisation data service (ODS) codes in the test data."
   ]
  },
  {
   "cell_type": "code",
   "execution_count": 20,
   "id": "lightweight-sweden",
   "metadata": {},
   "outputs": [
    {
     "ename": "KeyError",
     "evalue": "'org_code'",
     "output_type": "error",
     "traceback": [
      "\u001b[0;31m---------------------------------------------------------------------------\u001b[0m",
      "\u001b[0;31mKeyError\u001b[0m                                  Traceback (most recent call last)",
      "\u001b[0;32m/opt/conda/lib/python3.9/site-packages/pandas/core/indexes/base.py\u001b[0m in \u001b[0;36mget_loc\u001b[0;34m(self, key, method, tolerance)\u001b[0m\n\u001b[1;32m   3360\u001b[0m             \u001b[0;32mtry\u001b[0m\u001b[0;34m:\u001b[0m\u001b[0;34m\u001b[0m\u001b[0;34m\u001b[0m\u001b[0m\n\u001b[0;32m-> 3361\u001b[0;31m                 \u001b[0;32mreturn\u001b[0m \u001b[0mself\u001b[0m\u001b[0;34m.\u001b[0m\u001b[0m_engine\u001b[0m\u001b[0;34m.\u001b[0m\u001b[0mget_loc\u001b[0m\u001b[0;34m(\u001b[0m\u001b[0mcasted_key\u001b[0m\u001b[0;34m)\u001b[0m\u001b[0;34m\u001b[0m\u001b[0;34m\u001b[0m\u001b[0m\n\u001b[0m\u001b[1;32m   3362\u001b[0m             \u001b[0;32mexcept\u001b[0m \u001b[0mKeyError\u001b[0m \u001b[0;32mas\u001b[0m \u001b[0merr\u001b[0m\u001b[0;34m:\u001b[0m\u001b[0;34m\u001b[0m\u001b[0;34m\u001b[0m\u001b[0m\n",
      "\u001b[0;32m/opt/conda/lib/python3.9/site-packages/pandas/_libs/index.pyx\u001b[0m in \u001b[0;36mpandas._libs.index.IndexEngine.get_loc\u001b[0;34m()\u001b[0m\n",
      "\u001b[0;32m/opt/conda/lib/python3.9/site-packages/pandas/_libs/index.pyx\u001b[0m in \u001b[0;36mpandas._libs.index.IndexEngine.get_loc\u001b[0;34m()\u001b[0m\n",
      "\u001b[0;32mpandas/_libs/hashtable_class_helper.pxi\u001b[0m in \u001b[0;36mpandas._libs.hashtable.PyObjectHashTable.get_item\u001b[0;34m()\u001b[0m\n",
      "\u001b[0;32mpandas/_libs/hashtable_class_helper.pxi\u001b[0m in \u001b[0;36mpandas._libs.hashtable.PyObjectHashTable.get_item\u001b[0;34m()\u001b[0m\n",
      "\u001b[0;31mKeyError\u001b[0m: 'org_code'",
      "\nThe above exception was the direct cause of the following exception:\n",
      "\u001b[0;31mKeyError\u001b[0m                                  Traceback (most recent call last)",
      "\u001b[0;32m/tmp/ipykernel_477/944042213.py\u001b[0m in \u001b[0;36m<module>\u001b[0;34m\u001b[0m\n\u001b[0;32m----> 1\u001b[0;31m \u001b[0morg_code\u001b[0m\u001b[0;34m=\u001b[0m\u001b[0mlist\u001b[0m\u001b[0;34m(\u001b[0m\u001b[0mtestData\u001b[0m\u001b[0;34m[\u001b[0m\u001b[0;34m'org_code'\u001b[0m\u001b[0;34m]\u001b[0m\u001b[0;34m.\u001b[0m\u001b[0munique\u001b[0m\u001b[0;34m(\u001b[0m\u001b[0;34m)\u001b[0m\u001b[0;34m)\u001b[0m\u001b[0;34m\u001b[0m\u001b[0;34m\u001b[0m\u001b[0m\n\u001b[0m\u001b[1;32m      2\u001b[0m \u001b[0morg_code\u001b[0m\u001b[0;34m\u001b[0m\u001b[0;34m\u001b[0m\u001b[0m\n",
      "\u001b[0;32m/opt/conda/lib/python3.9/site-packages/pandas/core/frame.py\u001b[0m in \u001b[0;36m__getitem__\u001b[0;34m(self, key)\u001b[0m\n\u001b[1;32m   3456\u001b[0m             \u001b[0;32mif\u001b[0m \u001b[0mself\u001b[0m\u001b[0;34m.\u001b[0m\u001b[0mcolumns\u001b[0m\u001b[0;34m.\u001b[0m\u001b[0mnlevels\u001b[0m \u001b[0;34m>\u001b[0m \u001b[0;36m1\u001b[0m\u001b[0;34m:\u001b[0m\u001b[0;34m\u001b[0m\u001b[0;34m\u001b[0m\u001b[0m\n\u001b[1;32m   3457\u001b[0m                 \u001b[0;32mreturn\u001b[0m \u001b[0mself\u001b[0m\u001b[0;34m.\u001b[0m\u001b[0m_getitem_multilevel\u001b[0m\u001b[0;34m(\u001b[0m\u001b[0mkey\u001b[0m\u001b[0;34m)\u001b[0m\u001b[0;34m\u001b[0m\u001b[0;34m\u001b[0m\u001b[0m\n\u001b[0;32m-> 3458\u001b[0;31m             \u001b[0mindexer\u001b[0m \u001b[0;34m=\u001b[0m \u001b[0mself\u001b[0m\u001b[0;34m.\u001b[0m\u001b[0mcolumns\u001b[0m\u001b[0;34m.\u001b[0m\u001b[0mget_loc\u001b[0m\u001b[0;34m(\u001b[0m\u001b[0mkey\u001b[0m\u001b[0;34m)\u001b[0m\u001b[0;34m\u001b[0m\u001b[0;34m\u001b[0m\u001b[0m\n\u001b[0m\u001b[1;32m   3459\u001b[0m             \u001b[0;32mif\u001b[0m \u001b[0mis_integer\u001b[0m\u001b[0;34m(\u001b[0m\u001b[0mindexer\u001b[0m\u001b[0;34m)\u001b[0m\u001b[0;34m:\u001b[0m\u001b[0;34m\u001b[0m\u001b[0;34m\u001b[0m\u001b[0m\n\u001b[1;32m   3460\u001b[0m                 \u001b[0mindexer\u001b[0m \u001b[0;34m=\u001b[0m \u001b[0;34m[\u001b[0m\u001b[0mindexer\u001b[0m\u001b[0;34m]\u001b[0m\u001b[0;34m\u001b[0m\u001b[0;34m\u001b[0m\u001b[0m\n",
      "\u001b[0;32m/opt/conda/lib/python3.9/site-packages/pandas/core/indexes/base.py\u001b[0m in \u001b[0;36mget_loc\u001b[0;34m(self, key, method, tolerance)\u001b[0m\n\u001b[1;32m   3361\u001b[0m                 \u001b[0;32mreturn\u001b[0m \u001b[0mself\u001b[0m\u001b[0;34m.\u001b[0m\u001b[0m_engine\u001b[0m\u001b[0;34m.\u001b[0m\u001b[0mget_loc\u001b[0m\u001b[0;34m(\u001b[0m\u001b[0mcasted_key\u001b[0m\u001b[0;34m)\u001b[0m\u001b[0;34m\u001b[0m\u001b[0;34m\u001b[0m\u001b[0m\n\u001b[1;32m   3362\u001b[0m             \u001b[0;32mexcept\u001b[0m \u001b[0mKeyError\u001b[0m \u001b[0;32mas\u001b[0m \u001b[0merr\u001b[0m\u001b[0;34m:\u001b[0m\u001b[0;34m\u001b[0m\u001b[0;34m\u001b[0m\u001b[0m\n\u001b[0;32m-> 3363\u001b[0;31m                 \u001b[0;32mraise\u001b[0m \u001b[0mKeyError\u001b[0m\u001b[0;34m(\u001b[0m\u001b[0mkey\u001b[0m\u001b[0;34m)\u001b[0m \u001b[0;32mfrom\u001b[0m \u001b[0merr\u001b[0m\u001b[0;34m\u001b[0m\u001b[0;34m\u001b[0m\u001b[0m\n\u001b[0m\u001b[1;32m   3364\u001b[0m \u001b[0;34m\u001b[0m\u001b[0m\n\u001b[1;32m   3365\u001b[0m         \u001b[0;32mif\u001b[0m \u001b[0mis_scalar\u001b[0m\u001b[0;34m(\u001b[0m\u001b[0mkey\u001b[0m\u001b[0;34m)\u001b[0m \u001b[0;32mand\u001b[0m \u001b[0misna\u001b[0m\u001b[0;34m(\u001b[0m\u001b[0mkey\u001b[0m\u001b[0;34m)\u001b[0m \u001b[0;32mand\u001b[0m \u001b[0;32mnot\u001b[0m \u001b[0mself\u001b[0m\u001b[0;34m.\u001b[0m\u001b[0mhasnans\u001b[0m\u001b[0;34m:\u001b[0m\u001b[0;34m\u001b[0m\u001b[0;34m\u001b[0m\u001b[0m\n",
      "\u001b[0;31mKeyError\u001b[0m: 'org_code'"
     ]
    }
   ],
   "source": [
    "org_code=list(testData['org_code'].unique())\n",
    "org_code"
   ]
  },
  {
   "cell_type": "markdown",
   "id": "actual-eclipse",
   "metadata": {},
   "source": [
    "##### The `head()` function\n",
    "The `head()` function lets you look at the top n rows of a data frame. By default, it shows the first five rows in a data frame. We can specify the number of rows we want to see in a data frame with the argument “n”. For example, look at the first row (n=1) of the test data:"
   ]
  },
  {
   "cell_type": "code",
   "execution_count": null,
   "id": "corrected-cover",
   "metadata": {},
   "outputs": [],
   "source": [
    "testData.head(n=1)"
   ]
  },
  {
   "cell_type": "markdown",
   "id": "amateur-princess",
   "metadata": {},
   "source": [
    "## Selection widgets\n",
    "Several widgets can be used to display single selection lists. You can specify the selectable options by passing a list.  "
   ]
  },
  {
   "cell_type": "code",
   "execution_count": null,
   "id": "vocational-thursday",
   "metadata": {},
   "outputs": [],
   "source": [
    "c=widgets.Select(\n",
    "    options=org_code,\n",
    "    value='C82010',\n",
    "    rows=len(org_code),\n",
    "    description='ODS code:',\n",
    "    disabled=False\n",
    ")\n",
    "display(c)"
   ]
  },
  {
   "cell_type": "code",
   "execution_count": null,
   "id": "public-absence",
   "metadata": {},
   "outputs": [],
   "source": [
    "dfTofill.iloc[0,2]=c.value\n",
    "dfTofill"
   ]
  },
  {
   "cell_type": "markdown",
   "id": "desirable-convenience",
   "metadata": {},
   "source": [
    "## The type variable\n",
    "The type variable contains the department type for this activity, either  \n",
    "* **1:** Emergency departments are a consultant-led 24-hour service with full resuscitation facilities and designated accommodation for the reception of accident and emergency patients,  \n",
    "* **2:** Consultant-led mono speciality accident and emergency service (e.g. ophthalmology, dental) with designated accommodation for the reception of patients, or  \n",
    "* **other:** Other type of A&E/minor injury activity with designated accommodation for the reception of accident and emergency patients. The department may be doctor-led or nurse-led and treats at least minor injuries and illnesses and can be routinely accessed without an appointment. A service mainly or entirely appointment-based (for example, a GP Practice or Outpatient clinic) is excluded even though it may treat a number of patients with minor illnesses or injury. Excludes NHS walk-in centres.[(National Health Service, 2020)](https://eu01.alma.exlibrisgroup.com/leganto/public/44UOE_INST/citation/37459630310002466?auth=SAML)"
   ]
  },
  {
   "cell_type": "markdown",
   "id": "bright-newman",
   "metadata": {},
   "source": [
    "#### Data type\n",
    "We now need to check the data type in the testData data frame. Let us use the `dtypes` function from the Python *pandas* package to query the data types in the testData. The `dtypes` function returns the data types in the data frame."
   ]
  },
  {
   "cell_type": "code",
   "execution_count": null,
   "id": "south-worse",
   "metadata": {},
   "outputs": [],
   "source": [
    "print(result[3])\n",
    "#String data type"
   ]
  },
  {
   "cell_type": "markdown",
   "id": "beneficial-optimization",
   "metadata": {},
   "source": [
    "The data type object is a string."
   ]
  },
  {
   "cell_type": "markdown",
   "id": "pharmaceutical-session",
   "metadata": {},
   "source": [
    "#### Applying *pandas* `unique()` function\n",
    "We must first use the *pandas* package `unique()` function to get the unique department type in the test data."
   ]
  },
  {
   "cell_type": "code",
   "execution_count": null,
   "id": "fantastic-despite",
   "metadata": {},
   "outputs": [],
   "source": [
    "type=list(testData['type'].unique())\n",
    "type"
   ]
  },
  {
   "cell_type": "markdown",
   "id": "micro-school",
   "metadata": {},
   "source": [
    "##### The `head()` function\n",
    "The `head()` function lets you look at the top n rows of a data frame. By default, it shows the first five rows in a data frame. We can specify the number of rows we want to see in a data frame with the argument “n”. For example, look at the first row (n=1) of the test data:"
   ]
  },
  {
   "cell_type": "code",
   "execution_count": null,
   "id": "physical-corner",
   "metadata": {},
   "outputs": [],
   "source": [
    "testData.head(n=1)"
   ]
  },
  {
   "cell_type": "markdown",
   "id": "legendary-reading",
   "metadata": {},
   "source": [
    "### RadioButtons"
   ]
  },
  {
   "cell_type": "code",
   "execution_count": null,
   "id": "virgin-commonwealth",
   "metadata": {},
   "outputs": [],
   "source": [
    "d=widgets.RadioButtons(\n",
    "    options=type,\n",
    "#     value='other',\n",
    "    description='Type:',\n",
    "    disabled=False\n",
    ")\n",
    "display(d)"
   ]
  },
  {
   "cell_type": "code",
   "execution_count": null,
   "id": "eleven-penetration",
   "metadata": {},
   "outputs": [],
   "source": [
    "dfTofill.iloc[0,3]=d.value\n",
    "dfTofill"
   ]
  },
  {
   "cell_type": "markdown",
   "id": "auburn-correspondence",
   "metadata": {},
   "source": [
    "# The attendances variable\n",
    "The attendances variable includes the number of attendances for this department type at this organisation for this month."
   ]
  },
  {
   "cell_type": "markdown",
   "id": "ideal-wisdom",
   "metadata": {},
   "source": [
    "#### Data type\n",
    "We now need to check the data type in the testData data frame. Let us use the `dtypes` function from the Python *pandas* package to query the data types in the testData. The `dtypes` function returns the data types in the data frame."
   ]
  },
  {
   "cell_type": "code",
   "execution_count": null,
   "id": "conditional-channels",
   "metadata": {},
   "outputs": [],
   "source": [
    "print(result[4])"
   ]
  },
  {
   "cell_type": "markdown",
   "id": "flexible-generator",
   "metadata": {},
   "source": [
    "##### The `head()` function\n",
    "The `head()` function lets you look at the top n rows of a data frame. By default, it shows the first five rows in a data frame. We can specify the number of rows we want to see in a data frame with the argument “n”. For example, look at the first row (n=1) of the test data:"
   ]
  },
  {
   "cell_type": "code",
   "execution_count": null,
   "id": "atlantic-female",
   "metadata": {},
   "outputs": [],
   "source": [
    "testData.head(n=1)"
   ]
  },
  {
   "cell_type": "markdown",
   "id": "civil-excess",
   "metadata": {},
   "source": [
    "## Numeric widgets\n",
    "There are many widgets distributed with ipywidgets that are designed to display numeric values. Widgets exist for displaying integers and floats, both bounded and unbounded. The integer widgets share a similar naming scheme to their floating point counterparts. By replacing Float with Int in the widget name, you can find the Integer equivalent.\n",
    "\n",
    "### IntText"
   ]
  },
  {
   "cell_type": "code",
   "execution_count": null,
   "id": "coupled-optimum",
   "metadata": {},
   "outputs": [],
   "source": [
    "e=widgets.IntText(\n",
    "    value=0,\n",
    "    description='Attendances:',\n",
    "    disabled=False)\n",
    "display(e)"
   ]
  },
  {
   "cell_type": "code",
   "execution_count": null,
   "id": "metallic-token",
   "metadata": {},
   "outputs": [],
   "source": [
    "dfTofill.iloc[0,4]=e.value\n",
    "dfTofill"
   ]
  },
  {
   "cell_type": "markdown",
   "id": "radio-cross",
   "metadata": {},
   "source": [
    "# The breaches variable\n",
    "The breaches variable includes the number of attendances that breached the four hour target.   "
   ]
  },
  {
   "cell_type": "markdown",
   "id": "helpful-stephen",
   "metadata": {},
   "source": [
    "#### Data type\n",
    "We now need to check the data type in the testData data frame. Let us use the `dtypes` function from the Python *pandas* package to query the data types in the testData. The `dtypes` function returns the data types in the data frame."
   ]
  },
  {
   "cell_type": "code",
   "execution_count": null,
   "id": "original-obligation",
   "metadata": {},
   "outputs": [],
   "source": [
    "print(result[5])"
   ]
  },
  {
   "cell_type": "code",
   "execution_count": null,
   "id": "automotive-rebecca",
   "metadata": {},
   "outputs": [],
   "source": [
    "testData.head(1)"
   ]
  },
  {
   "cell_type": "markdown",
   "id": "particular-female",
   "metadata": {},
   "source": [
    "### IntText"
   ]
  },
  {
   "cell_type": "code",
   "execution_count": null,
   "id": "irish-renewal",
   "metadata": {},
   "outputs": [],
   "source": [
    "f=widgets.IntText(\n",
    "    value=0,\n",
    "    description='Breaches:',\n",
    "    disabled=False)\n",
    "display(f)"
   ]
  },
  {
   "cell_type": "code",
   "execution_count": null,
   "id": "filled-ballet",
   "metadata": {},
   "outputs": [],
   "source": [
    "dfTofill.iloc[0,5]=f.value\n",
    "dfTofill"
   ]
  },
  {
   "cell_type": "markdown",
   "id": "headed-prior",
   "metadata": {},
   "source": [
    "#### The admissions variable\n",
    "The admissions variable includes the number of attendances that resulted in an admission to the hospital.[(Chris Mainey, 2021)](https://eu01.alma.exlibrisgroup.com/leganto/public/44UOE_INST/citation/37444097490002466?auth=SAML)"
   ]
  },
  {
   "cell_type": "markdown",
   "id": "opening-divide",
   "metadata": {},
   "source": [
    "#### Data type\n",
    "We now need to check the data type in the testData data frame. Let us use the `dtypes` function from the Python *pandas* package to query the data types in the testData. The `dtypes` function returns the data types in the data frame."
   ]
  },
  {
   "cell_type": "code",
   "execution_count": null,
   "id": "polished-doubt",
   "metadata": {},
   "outputs": [],
   "source": [
    "print(result[6])"
   ]
  },
  {
   "cell_type": "markdown",
   "id": "affecting-evaluation",
   "metadata": {},
   "source": [
    "It is an integer variable.\n",
    "\n",
    "##### The `head()` function\n",
    "The `head()` function lets you look at the top n rows of a data frame. By default, it shows the first five rows in a data frame. We can specify the number of rows we want to see in a data frame with the argument “n”. For example, look at the first row (n=1) of the test data:"
   ]
  },
  {
   "cell_type": "code",
   "execution_count": null,
   "id": "touched-lender",
   "metadata": {},
   "outputs": [],
   "source": [
    "testData.head(n=1)"
   ]
  },
  {
   "cell_type": "markdown",
   "id": "tender-looking",
   "metadata": {},
   "source": [
    "### IntText"
   ]
  },
  {
   "cell_type": "code",
   "execution_count": null,
   "id": "roman-newport",
   "metadata": {},
   "outputs": [],
   "source": [
    "g=widgets.IntText(\n",
    "    value=0,\n",
    "    description='Admissions:',\n",
    "    disabled=False)\n",
    "display(g)"
   ]
  },
  {
   "cell_type": "code",
   "execution_count": null,
   "id": "sublime-harbor",
   "metadata": {},
   "outputs": [],
   "source": [
    "dfTofill.iloc[0,6]=g.value\n",
    "dfTofill"
   ]
  },
  {
   "cell_type": "markdown",
   "id": "indirect-hardware",
   "metadata": {},
   "source": [
    "# The performance variable\n",
    "The performance variable was calculated for the whole of England as (1 - breaches)/ attendances."
   ]
  },
  {
   "cell_type": "markdown",
   "id": "preliminary-economics",
   "metadata": {},
   "source": [
    "#### Data type\n",
    "We now need to check the data type in the testData data frame. Let us use the `dtypes` function from the Python *pandas* package to query the data types in the testData. The `dtypes` function returns the data types in the data frame."
   ]
  },
  {
   "cell_type": "code",
   "execution_count": null,
   "id": "rolled-workstation",
   "metadata": {},
   "outputs": [],
   "source": [
    "print(result[7])"
   ]
  },
  {
   "cell_type": "markdown",
   "id": "preliminary-banner",
   "metadata": {},
   "source": [
    "It is a float variable.\n",
    "\n",
    "##### The `head()` function\n",
    "The `head()` function lets you look at the top n rows of a data frame. By default, it shows the first five rows in a data frame. We can specify the number of rows we want to see in a data frame with the argument “n”. For example, look at the first row (n=1) of the test data:"
   ]
  },
  {
   "cell_type": "code",
   "execution_count": null,
   "id": "derived-seeker",
   "metadata": {},
   "outputs": [],
   "source": [
    "testData.head(n=1)"
   ]
  },
  {
   "cell_type": "markdown",
   "id": "imported-uniform",
   "metadata": {},
   "source": [
    "### FloatText"
   ]
  },
  {
   "cell_type": "code",
   "execution_count": null,
   "id": "crazy-sleep",
   "metadata": {},
   "outputs": [],
   "source": [
    "h=widgets.FloatText(\n",
    "    value=0.0,\n",
    "    description='Performance:',\n",
    "    disabled=False\n",
    ")\n",
    "display(h)"
   ]
  },
  {
   "cell_type": "code",
   "execution_count": null,
   "id": "personal-pixel",
   "metadata": {},
   "outputs": [],
   "source": [
    "dfTofill.iloc[0,7]=h.value\n",
    "dfTofill"
   ]
  },
  {
   "cell_type": "markdown",
   "id": "concerned-algeria",
   "metadata": {},
   "source": [
    "# Concatenating the collected data to the CollectData data frame.   \n",
    "Let us use the `concat()` function from the Python *pandas* package to append the CollectData and dfTofill data frames. The concat() function is used to concatenate *pandas* objects."
   ]
  },
  {
   "cell_type": "code",
   "execution_count": null,
   "id": "reserved-tomato",
   "metadata": {},
   "outputs": [],
   "source": [
    "# CollectData is the first data frame\n",
    "# dfTofill is the second data frame\n",
    "CollectData  = pd.concat([CollectData, dfTofill])\n",
    "display(CollectData)"
   ]
  },
  {
   "cell_type": "markdown",
   "id": "balanced-worship",
   "metadata": {},
   "source": [
    "## Have you consent to process and share the data before you save it to the working data folder?\n",
    "\n",
    "Before we save our data to file, we must make sure we have consent to do so. The following line of code, will ensure that you have consent to save data."
   ]
  },
  {
   "cell_type": "code",
   "execution_count": null,
   "id": "worthy-vegetarian",
   "metadata": {},
   "outputs": [],
   "source": [
    "CollectData=CollectData[CollectData['consent'] == True]\n",
    "display(CollectData)"
   ]
  },
  {
   "cell_type": "markdown",
   "id": "above-league",
   "metadata": {},
   "source": [
    "### Saving the CollectData data frame\n",
    "Saving the data collected by your data-capture tool to the working data folder:"
   ]
  },
  {
   "cell_type": "code",
   "execution_count": null,
   "id": "undefined-bristol",
   "metadata": {},
   "outputs": [],
   "source": [
    "CollectData.to_csv('../Data/CollectedData.csv', index=False)"
   ]
  },
  {
   "cell_type": "markdown",
   "id": "banned-basic",
   "metadata": {},
   "source": [
    "That is the CollectData data frame saved to the working 'Data' folder. You need to iterate through this Notebook until you have collected all of your test data and then save the captured test data to your 'RawData' folder."
   ]
  },
  {
   "cell_type": "code",
   "execution_count": null,
   "id": "integral-basketball",
   "metadata": {},
   "outputs": [],
   "source": [
    "#CollectData.to_csv('../RawData/CollectedDataFinal.csv', index=False)"
   ]
  },
  {
   "cell_type": "markdown",
   "id": "previous-swift",
   "metadata": {},
   "source": [
    "That is the final CollectData data frame saved to the 'RawData' folder. \n",
    "\n",
    "<br>\n",
    "<br>\n",
    "<br>\n",
    "<br>\n",
    "\n",
    "# The user interface for your data collection tool \n",
    "\n",
    "In this section you will provide a little backgrown for your end user, why your need ther data, and what you are going to do with it.\n",
    "\n",
    "## The Flexbox layout\n",
    "\n",
    "\n",
    "The Box widget enables rich reactive layouts in the Jupyter notebook. It aims at providing an efficient way to lay out, align and distribute space among your widgets in a box. The HBox (Horisontal layout) and VBox (vericallayout) classes above are special cases of the Box widget.\n",
    "\n",
    "Again, the whole flexbox spec is exposed via the layout attribute of the container widget (Box) and the contained items. One may share the same layout attribute among all the contained items.\n",
    "\n",
    "flex-flow is a shorthand for the flex-direction \n",
    "flex defines the ability for a flex item to grow or shrnk if necessary to fill the space. \n",
    "\n",
    "\n",
    "### Create reactive form for end-user\n",
    "Lets uste the VBox widget to a reactive form for our enduser.\n",
    "The form itself, and each row in the form is a Box widget.\n",
    "\n"
   ]
  },
  {
   "cell_type": "code",
   "execution_count": null,
   "id": "elect-discipline",
   "metadata": {},
   "outputs": [],
   "source": [
    "#form=widgets.VBox([a,b,c,d,e,f,g,h])\n",
    "form=widgets.VBox([a,b,e,f])"
   ]
  },
  {
   "cell_type": "markdown",
   "id": "professional-monthly",
   "metadata": {},
   "source": [
    "# Our commitment to a maximum four-hour accident and emergency wait \n",
    "\n",
    "\n",
    "The four-hour accident and emergency waiting time target is a pledge set out in our ['Handbook to the NHS Constitution'](https://eu01.alma.exlibrisgroup.com/leganto/public/44UOE_INST/citation/37819402820002466?auth=SAML). \n",
    "Our operational standard is that at least 95% of patients attending A&E should be admitted, transferred, or discharged within four hours.[(The UK Government, 2022)](https://eu01.alma.exlibrisgroup.com/leganto/public/44UOE_INST/citation/37819402820002466?auth=SAML) This standard applies to all areas of emergency care, including attendances in trolleyed areas of an Assessment Unit as well as Emergency Departments and minor injury units. For service users that require admission to A&E, the time they wait between the doctor deciding that they should be admitted for treatment and the patient arriving on the ward is an important measure of safety. The Royal College of Emergency Medicine estimated that overcrowding and extreme delays led to 4,519 excess deaths in England in 2020/21.  In March 2022, 136,297 patients waited over four hours from decision to admission, 27% of all patients. [(The Nuffield Trust, 2022)](https://eu01.alma.exlibrisgroup.com/leganto/public/44UOE_INST/citation/37819506800002466?auth=SAML)\n",
    "\n",
    "To keep our service users and NHS England safe by ensuring A&E departments provide the fastest and most appropriate care for service users as and when they need it. We need your monthly data on the number of attendances and breaches over time to make available to your and other service managers to set as a benchmark against which to assess and improve your department’s performance against the 4-hour standard. We would be very grateful if you could could take one minute each month to share your data with us in the form below:"
   ]
  },
  {
   "cell_type": "code",
   "execution_count": null,
   "id": "latest-shelter",
   "metadata": {
    "scrolled": true
   },
   "outputs": [],
   "source": [
    "display(form)"
   ]
  },
  {
   "cell_type": "markdown",
   "id": "peripheral-avatar",
   "metadata": {},
   "source": [
    "Thank you for sharing your data, and giving us your consent to process and share it with other service management teams across England. We will add your data to our [open data resource](https://github.com/B111333/B111333WorkingWithDataTypesAndStructuresInPythonandR_Assessment) for you to use now or in the futures as a benchmark against which to assess and improve your department’s performance against the 4-hour standard. \n",
    "\n",
    "\n",
    "I hope these examples help you to improve your Python programming skills. Happy Coding!"
   ]
  }
 ],
 "metadata": {
  "kernelspec": {
   "display_name": "Python 3 (ipykernel)",
   "language": "python",
   "name": "python3"
  },
  "language_info": {
   "codemirror_mode": {
    "name": "ipython",
    "version": 3
   },
   "file_extension": ".py",
   "mimetype": "text/x-python",
   "name": "python",
   "nbconvert_exporter": "python",
   "pygments_lexer": "ipython3",
   "version": "3.9.2"
  }
 },
 "nbformat": 4,
 "nbformat_minor": 5
}
