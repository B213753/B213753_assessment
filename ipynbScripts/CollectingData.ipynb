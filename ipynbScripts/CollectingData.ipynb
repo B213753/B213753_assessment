{
 "cells": [
  {
   "cell_type": "markdown",
   "id": "pleased-absolute",
   "metadata": {},
   "source": [
    "# Title: Collecting data using interactive Jupyter widgets  \n",
    "**Author:** B213753 , *Adapted from*: \"CollectingDataUsingInteractiveJupyterWidgets.ipynb\" by Mairead Bermingham (mairead.bermingham@ed.ac.uk)\n",
    "**Notebook and data info:** This Notebook uses interactive jupyter-widgets to collect data for the length of stay (LOS_model) dataset from the test data observations, and save it to a working 'Data' folder. All capture data is saved to the 'RawData' folder.  \n",
    "**Data:** Data consists of numerical data and character data from NHSRdatasets package. \n",
    "\n",
    "# Data\n",
    "The data used to input into the data collection tool is a generated test datafrom from the LOS_model dataset in the NHSRdatasets package in R. The selected variables include: patient ID, organisation/trust, patient age, length of stay, and death. The R script \"./RScripts/load_dataset.R\" was used to subset the full `LOS_model` data into test and training data.\n"
   ]
  },
  {
   "cell_type": "markdown",
   "id": "white-white",
   "metadata": {},
   "source": [
    "# Load pandas and test data"
   ]
  },
  {
   "cell_type": "code",
   "execution_count": 1,
   "id": "frozen-attendance",
   "metadata": {
    "tags": [
     "remove_cell"
    ]
   },
   "outputs": [
    {
     "data": {
      "text/html": [
       "<div>\n",
       "<style scoped>\n",
       "    .dataframe tbody tr th:only-of-type {\n",
       "        vertical-align: middle;\n",
       "    }\n",
       "\n",
       "    .dataframe tbody tr th {\n",
       "        vertical-align: top;\n",
       "    }\n",
       "\n",
       "    .dataframe thead th {\n",
       "        text-align: right;\n",
       "    }\n",
       "</style>\n",
       "<table border=\"1\" class=\"dataframe\">\n",
       "  <thead>\n",
       "    <tr style=\"text-align: right;\">\n",
       "      <th></th>\n",
       "      <th>ID</th>\n",
       "      <th>Organisation</th>\n",
       "      <th>Age</th>\n",
       "      <th>LOS</th>\n",
       "      <th>Death</th>\n",
       "    </tr>\n",
       "  </thead>\n",
       "  <tbody>\n",
       "    <tr>\n",
       "      <th>0</th>\n",
       "      <td>9</td>\n",
       "      <td>Trust9</td>\n",
       "      <td>51</td>\n",
       "      <td>7</td>\n",
       "      <td>Died</td>\n",
       "    </tr>\n",
       "    <tr>\n",
       "      <th>1</th>\n",
       "      <td>46</td>\n",
       "      <td>Trust6</td>\n",
       "      <td>49</td>\n",
       "      <td>7</td>\n",
       "      <td>Alive</td>\n",
       "    </tr>\n",
       "    <tr>\n",
       "      <th>2</th>\n",
       "      <td>112</td>\n",
       "      <td>Trust2</td>\n",
       "      <td>19</td>\n",
       "      <td>3</td>\n",
       "      <td>Alive</td>\n",
       "    </tr>\n",
       "    <tr>\n",
       "      <th>3</th>\n",
       "      <td>114</td>\n",
       "      <td>Trust4</td>\n",
       "      <td>23</td>\n",
       "      <td>3</td>\n",
       "      <td>Alive</td>\n",
       "    </tr>\n",
       "    <tr>\n",
       "      <th>4</th>\n",
       "      <td>135</td>\n",
       "      <td>Trust5</td>\n",
       "      <td>93</td>\n",
       "      <td>10</td>\n",
       "      <td>Alive</td>\n",
       "    </tr>\n",
       "    <tr>\n",
       "      <th>5</th>\n",
       "      <td>187</td>\n",
       "      <td>Trust7</td>\n",
       "      <td>33</td>\n",
       "      <td>4</td>\n",
       "      <td>Died</td>\n",
       "    </tr>\n",
       "    <tr>\n",
       "      <th>6</th>\n",
       "      <td>204</td>\n",
       "      <td>Trust4</td>\n",
       "      <td>27</td>\n",
       "      <td>2</td>\n",
       "      <td>Alive</td>\n",
       "    </tr>\n",
       "    <tr>\n",
       "      <th>7</th>\n",
       "      <td>213</td>\n",
       "      <td>Trust3</td>\n",
       "      <td>48</td>\n",
       "      <td>5</td>\n",
       "      <td>Alive</td>\n",
       "    </tr>\n",
       "    <tr>\n",
       "      <th>8</th>\n",
       "      <td>244</td>\n",
       "      <td>Trust4</td>\n",
       "      <td>76</td>\n",
       "      <td>9</td>\n",
       "      <td>Alive</td>\n",
       "    </tr>\n",
       "    <tr>\n",
       "      <th>9</th>\n",
       "      <td>260</td>\n",
       "      <td>Trust10</td>\n",
       "      <td>11</td>\n",
       "      <td>1</td>\n",
       "      <td>Alive</td>\n",
       "    </tr>\n",
       "    <tr>\n",
       "      <th>10</th>\n",
       "      <td>267</td>\n",
       "      <td>Trust7</td>\n",
       "      <td>79</td>\n",
       "      <td>10</td>\n",
       "      <td>Alive</td>\n",
       "    </tr>\n",
       "  </tbody>\n",
       "</table>\n",
       "</div>"
      ],
      "text/plain": [
       "     ID Organisation  Age  LOS  Death\n",
       "0     9       Trust9   51    7   Died\n",
       "1    46       Trust6   49    7  Alive\n",
       "2   112       Trust2   19    3  Alive\n",
       "3   114       Trust4   23    3  Alive\n",
       "4   135       Trust5   93   10  Alive\n",
       "5   187       Trust7   33    4   Died\n",
       "6   204       Trust4   27    2  Alive\n",
       "7   213       Trust3   48    5  Alive\n",
       "8   244       Trust4   76    9  Alive\n",
       "9   260      Trust10   11    1  Alive\n",
       "10  267       Trust7   79   10  Alive"
      ]
     },
     "execution_count": 1,
     "metadata": {},
     "output_type": "execute_result"
    }
   ],
   "source": [
    "#Load the 'pandas' package\n",
    "import pandas as pd\n",
    "testData=pd.read_csv(\"../Data/LOS_test.csv\")\n",
    "testData"
   ]
  },
  {
   "cell_type": "markdown",
   "id": "specific-location",
   "metadata": {},
   "source": [
    "#### Check data types"
   ]
  },
  {
   "cell_type": "code",
   "execution_count": 2,
   "id": "friendly-pennsylvania",
   "metadata": {
    "tags": [
     "hide-input"
    ]
   },
   "outputs": [
    {
     "name": "stdout",
     "output_type": "stream",
     "text": [
      "Output:\n",
      "ID               int64\n",
      "Organisation    object\n",
      "Age              int64\n",
      "LOS              int64\n",
      "Death           object\n",
      "dtype: object\n"
     ]
    }
   ],
   "source": [
    "result = testData.dtypes\n",
    "print(\"Output:\")\n",
    "print(result)"
   ]
  },
  {
   "cell_type": "markdown",
   "id": "broken-consciousness",
   "metadata": {},
   "source": [
    "The data type object is a string. The data types for the variables are:\n",
    "\n",
    "- ID: integer 64 bits\n",
    "- Organisation: string\n",
    "- Age: integer 64 bits\n",
    "- LOS: integer 64 bits\n",
    "- Death: string\n",
    "\n",
    "There are no abnormalities and the data types are all appropriate for the variables above.\n"
   ]
  },
  {
   "cell_type": "markdown",
   "id": "illegal-weekend",
   "metadata": {},
   "source": [
    "### Set up new empty data frame to store captured data\n",
    "\n",
    "Use head() to look at the first entry in the dataset."
   ]
  },
  {
   "cell_type": "code",
   "execution_count": 3,
   "id": "separated-bottle",
   "metadata": {},
   "outputs": [
    {
     "data": {
      "text/html": [
       "<div>\n",
       "<style scoped>\n",
       "    .dataframe tbody tr th:only-of-type {\n",
       "        vertical-align: middle;\n",
       "    }\n",
       "\n",
       "    .dataframe tbody tr th {\n",
       "        vertical-align: top;\n",
       "    }\n",
       "\n",
       "    .dataframe thead th {\n",
       "        text-align: right;\n",
       "    }\n",
       "</style>\n",
       "<table border=\"1\" class=\"dataframe\">\n",
       "  <thead>\n",
       "    <tr style=\"text-align: right;\">\n",
       "      <th></th>\n",
       "      <th>ID</th>\n",
       "      <th>Organisation</th>\n",
       "      <th>Age</th>\n",
       "      <th>LOS</th>\n",
       "      <th>Death</th>\n",
       "    </tr>\n",
       "  </thead>\n",
       "  <tbody>\n",
       "    <tr>\n",
       "      <th>0</th>\n",
       "      <td>9</td>\n",
       "      <td>Trust9</td>\n",
       "      <td>51</td>\n",
       "      <td>7</td>\n",
       "      <td>Died</td>\n",
       "    </tr>\n",
       "  </tbody>\n",
       "</table>\n",
       "</div>"
      ],
      "text/plain": [
       "   ID Organisation  Age  LOS Death\n",
       "0   9       Trust9   51    7  Died"
      ]
     },
     "execution_count": 3,
     "metadata": {},
     "output_type": "execute_result"
    }
   ],
   "source": [
    "testData.head(n=1)"
   ]
  },
  {
   "cell_type": "markdown",
   "id": "hydraulic-checkout",
   "metadata": {},
   "source": [
    "Use pd.DataFrame() to set up an empty data frame corresponding to the columns of the test data, and their data type. Add an extra column for consent - whether the data subject has consented to processing and sharing the data collected with the data capture tool."
   ]
  },
  {
   "cell_type": "code",
   "execution_count": 4,
   "id": "residential-index",
   "metadata": {
    "tags": [
     "hide-input"
    ]
   },
   "outputs": [
    {
     "data": {
      "text/html": [
       "<div>\n",
       "<style scoped>\n",
       "    .dataframe tbody tr th:only-of-type {\n",
       "        vertical-align: middle;\n",
       "    }\n",
       "\n",
       "    .dataframe tbody tr th {\n",
       "        vertical-align: top;\n",
       "    }\n",
       "\n",
       "    .dataframe thead th {\n",
       "        text-align: right;\n",
       "    }\n",
       "</style>\n",
       "<table border=\"1\" class=\"dataframe\">\n",
       "  <thead>\n",
       "    <tr style=\"text-align: right;\">\n",
       "      <th></th>\n",
       "      <th>ID</th>\n",
       "      <th>Organisation</th>\n",
       "      <th>Age</th>\n",
       "      <th>LOS</th>\n",
       "      <th>Death</th>\n",
       "      <th>consent</th>\n",
       "    </tr>\n",
       "  </thead>\n",
       "  <tbody>\n",
       "    <tr>\n",
       "      <th>0</th>\n",
       "      <td>-999</td>\n",
       "      <td>NA</td>\n",
       "      <td>0</td>\n",
       "      <td>0</td>\n",
       "      <td>NA</td>\n",
       "      <td>False</td>\n",
       "    </tr>\n",
       "  </tbody>\n",
       "</table>\n",
       "</div>"
      ],
      "text/plain": [
       "    ID Organisation  Age  LOS Death  consent\n",
       "0 -999           NA    0    0    NA    False"
      ]
     },
     "execution_count": 4,
     "metadata": {},
     "output_type": "execute_result"
    }
   ],
   "source": [
    "dfTofill = pd.DataFrame({'ID': [-999], # Integer\n",
    "                   'Organisation': ['NA'], # String\n",
    "                   'Age': [0], # Integer\n",
    "                   'LOS': [0], # Integer\n",
    "                   'Death': ['NA'], # String\n",
    "                   'consent': [False]})  # Boolean\n",
    "\n",
    "dfTofill"
   ]
  },
  {
   "cell_type": "markdown",
   "id": "located-recruitment",
   "metadata": {},
   "source": [
    "Save the empty data frame to your working 'Data' folder:"
   ]
  },
  {
   "cell_type": "code",
   "execution_count": 5,
   "id": "animated-envelope",
   "metadata": {
    "tags": [
     "hide-input"
    ]
   },
   "outputs": [],
   "source": [
    "#dfTofill.to_csv('../Data/CollectedData.csv', index=False)"
   ]
  },
  {
   "cell_type": "markdown",
   "id": "spiritual-comparative",
   "metadata": {},
   "source": [
    "Read the CollectedData.csv data frame to prepare for data collection."
   ]
  },
  {
   "cell_type": "code",
   "execution_count": 6,
   "id": "quantitative-wholesale",
   "metadata": {},
   "outputs": [
    {
     "data": {
      "text/html": [
       "<div>\n",
       "<style scoped>\n",
       "    .dataframe tbody tr th:only-of-type {\n",
       "        vertical-align: middle;\n",
       "    }\n",
       "\n",
       "    .dataframe tbody tr th {\n",
       "        vertical-align: top;\n",
       "    }\n",
       "\n",
       "    .dataframe thead th {\n",
       "        text-align: right;\n",
       "    }\n",
       "</style>\n",
       "<table border=\"1\" class=\"dataframe\">\n",
       "  <thead>\n",
       "    <tr style=\"text-align: right;\">\n",
       "      <th></th>\n",
       "      <th>ID</th>\n",
       "      <th>Organisation</th>\n",
       "      <th>Age</th>\n",
       "      <th>LOS</th>\n",
       "      <th>Death</th>\n",
       "      <th>consent</th>\n",
       "    </tr>\n",
       "  </thead>\n",
       "  <tbody>\n",
       "    <tr>\n",
       "      <th>0</th>\n",
       "      <td>4</td>\n",
       "      <td>Trust3</td>\n",
       "      <td>0</td>\n",
       "      <td>0</td>\n",
       "      <td>Alive</td>\n",
       "      <td>True</td>\n",
       "    </tr>\n",
       "    <tr>\n",
       "      <th>1</th>\n",
       "      <td>9</td>\n",
       "      <td>Trust9</td>\n",
       "      <td>51</td>\n",
       "      <td>7</td>\n",
       "      <td>Died</td>\n",
       "      <td>True</td>\n",
       "    </tr>\n",
       "    <tr>\n",
       "      <th>2</th>\n",
       "      <td>46</td>\n",
       "      <td>Trust6</td>\n",
       "      <td>49</td>\n",
       "      <td>7</td>\n",
       "      <td>Alive</td>\n",
       "      <td>True</td>\n",
       "    </tr>\n",
       "    <tr>\n",
       "      <th>3</th>\n",
       "      <td>112</td>\n",
       "      <td>Trust2</td>\n",
       "      <td>19</td>\n",
       "      <td>3</td>\n",
       "      <td>Alive</td>\n",
       "      <td>True</td>\n",
       "    </tr>\n",
       "    <tr>\n",
       "      <th>4</th>\n",
       "      <td>114</td>\n",
       "      <td>Trust4</td>\n",
       "      <td>23</td>\n",
       "      <td>3</td>\n",
       "      <td>Alive</td>\n",
       "      <td>True</td>\n",
       "    </tr>\n",
       "    <tr>\n",
       "      <th>5</th>\n",
       "      <td>135</td>\n",
       "      <td>Trust5</td>\n",
       "      <td>93</td>\n",
       "      <td>10</td>\n",
       "      <td>Alive</td>\n",
       "      <td>True</td>\n",
       "    </tr>\n",
       "    <tr>\n",
       "      <th>6</th>\n",
       "      <td>187</td>\n",
       "      <td>Trust7</td>\n",
       "      <td>33</td>\n",
       "      <td>4</td>\n",
       "      <td>Died</td>\n",
       "      <td>True</td>\n",
       "    </tr>\n",
       "    <tr>\n",
       "      <th>7</th>\n",
       "      <td>204</td>\n",
       "      <td>Trust4</td>\n",
       "      <td>27</td>\n",
       "      <td>2</td>\n",
       "      <td>Alive</td>\n",
       "      <td>True</td>\n",
       "    </tr>\n",
       "    <tr>\n",
       "      <th>8</th>\n",
       "      <td>213</td>\n",
       "      <td>Trust3</td>\n",
       "      <td>48</td>\n",
       "      <td>5</td>\n",
       "      <td>Alive</td>\n",
       "      <td>True</td>\n",
       "    </tr>\n",
       "    <tr>\n",
       "      <th>9</th>\n",
       "      <td>244</td>\n",
       "      <td>Trust4</td>\n",
       "      <td>76</td>\n",
       "      <td>9</td>\n",
       "      <td>Alive</td>\n",
       "      <td>True</td>\n",
       "    </tr>\n",
       "    <tr>\n",
       "      <th>10</th>\n",
       "      <td>260</td>\n",
       "      <td>Trust10</td>\n",
       "      <td>11</td>\n",
       "      <td>1</td>\n",
       "      <td>Alive</td>\n",
       "      <td>True</td>\n",
       "    </tr>\n",
       "    <tr>\n",
       "      <th>11</th>\n",
       "      <td>267</td>\n",
       "      <td>Trust7</td>\n",
       "      <td>79</td>\n",
       "      <td>10</td>\n",
       "      <td>Alive</td>\n",
       "      <td>True</td>\n",
       "    </tr>\n",
       "  </tbody>\n",
       "</table>\n",
       "</div>"
      ],
      "text/plain": [
       "     ID Organisation  Age  LOS  Death  consent\n",
       "0     4       Trust3    0    0  Alive     True\n",
       "1     9       Trust9   51    7   Died     True\n",
       "2    46       Trust6   49    7  Alive     True\n",
       "3   112       Trust2   19    3  Alive     True\n",
       "4   114       Trust4   23    3  Alive     True\n",
       "5   135       Trust5   93   10  Alive     True\n",
       "6   187       Trust7   33    4   Died     True\n",
       "7   204       Trust4   27    2  Alive     True\n",
       "8   213       Trust3   48    5  Alive     True\n",
       "9   244       Trust4   76    9  Alive     True\n",
       "10  260      Trust10   11    1  Alive     True\n",
       "11  267       Trust7   79   10  Alive     True"
      ]
     },
     "execution_count": 6,
     "metadata": {},
     "output_type": "execute_result"
    }
   ],
   "source": [
    "CollectData=pd.read_csv(\"../Data/CollectedData.csv\")\n",
    "CollectData"
   ]
  },
  {
   "cell_type": "markdown",
   "id": "attempted-understanding",
   "metadata": {},
   "source": [
    "# Using Widgets to collect data\n",
    "\n",
    "Widgets are interactive Python objects that have a representation in the browser and will be used by this tool as the method to collect data.\n",
    "\n",
    "Import the *ipywidgets* Python package."
   ]
  },
  {
   "cell_type": "code",
   "execution_count": 7,
   "id": "accredited-contrary",
   "metadata": {},
   "outputs": [],
   "source": [
    "#Load the 'ipywidgets' package\n",
    "from ipywidgets import widgets, Layout"
   ]
  },
  {
   "cell_type": "markdown",
   "id": "adjusted-medium",
   "metadata": {},
   "source": [
    "### `display()`\n",
    "\n",
    "The *IPython.display* package is used to display different objects in Jupyter. "
   ]
  },
  {
   "cell_type": "code",
   "execution_count": 8,
   "id": "numerous-constitution",
   "metadata": {},
   "outputs": [],
   "source": [
    "#Load the 'IPython.display' package\n",
    "from IPython.display import display"
   ]
  },
  {
   "cell_type": "code",
   "execution_count": 9,
   "id": "impaired-justice",
   "metadata": {
    "tags": [
     "hide-input"
    ]
   },
   "outputs": [],
   "source": [
    "Consent_input = widgets.Checkbox(\n",
    "        value=False,\n",
    "        disabled=False,\n",
    "        indent=False,\n",
    "        layout=Layout(right='20%', border='solid red', width='200px',padding='0 0 0 45%', height='auto'))\n",
    "\n",
    "consent_checkbox = widgets.Box(\n",
    "    [widgets.Label('Consent:',\n",
    "                   layout=Layout(left='25%', overflow='visible', padding='1px 0 0 0')),\n",
    "    Consent_input]\n",
    ")\n",
    "\n",
    "consent_text = widgets.Textarea(\n",
    "    value='I consent for the data I have provided to be processed and shared in accordance with data protection regulations with the purpose of improving care service provision across the UK.',\n",
    "    disabled=True,\n",
    "    layout=Layout(width='80%')\n",
    ")\n",
    "\n",
    "consent = widgets.HBox(\n",
    "    [consent_text,consent_checkbox],\n",
    "    layout=Layout(display='flex',align_items='flex-end', justify_content='center' )\n",
    ")"
   ]
  },
  {
   "cell_type": "code",
   "execution_count": 10,
   "id": "piano-adobe",
   "metadata": {},
   "outputs": [],
   "source": [
    "ID_input= widgets.BoundedIntText(\n",
    "    step=1,\n",
    "    max=99999,\n",
    "    description='ID :',\n",
    "    disabled=False,\n",
    "    style = {'description_width': '100px'}\n",
    ")"
   ]
  },
  {
   "cell_type": "code",
   "execution_count": 11,
   "id": "bearing-england",
   "metadata": {},
   "outputs": [],
   "source": [
    "Organisation_input=widgets.Dropdown(\n",
    "    options=['Trust1', 'Trust2', 'Trust3','Trust4', 'Trust5', 'Trust6','Trust7', 'Trust8', 'Trust9','Trust10'],\n",
    "    value='Trust1',\n",
    "    description='Organisation :',\n",
    "    disabled=False,\n",
    "    style = {'description_width': '100px'}\n",
    ")"
   ]
  },
  {
   "cell_type": "code",
   "execution_count": 12,
   "id": "owned-filter",
   "metadata": {},
   "outputs": [],
   "source": [
    "Age_input=widgets.BoundedIntText(\n",
    "    step=1,\n",
    "    min=0,\n",
    "    max=150,\n",
    "    description='Age (Yrs) :',\n",
    "    disabled=False,\n",
    "    style = {'description_width': '100px'}\n",
    ")"
   ]
  },
  {
   "cell_type": "code",
   "execution_count": 13,
   "id": "moving-independence",
   "metadata": {},
   "outputs": [],
   "source": [
    "LOS_input=widgets.BoundedIntText(\n",
    "    step=1,\n",
    "    min=0,\n",
    "    description='Length of Stay :',\n",
    "    disabled=False,\n",
    "    style = {'description_width': '100px'}\n",
    ")"
   ]
  },
  {
   "cell_type": "code",
   "execution_count": 14,
   "id": "twenty-longitude",
   "metadata": {},
   "outputs": [],
   "source": [
    "Dead_input=widgets.Dropdown(\n",
    "    options=['Alive','Died'],\n",
    "    value='Alive',\n",
    "    description='Status :',\n",
    "    disabled=False,\n",
    "    style = {'description_width': '100px'}\n",
    ")"
   ]
  },
  {
   "cell_type": "markdown",
   "id": "advised-slope",
   "metadata": {},
   "source": [
    "#### Add a submit button to programmatically add a row onto collected data and reset the form"
   ]
  },
  {
   "cell_type": "code",
   "execution_count": 15,
   "id": "hidden-netherlands",
   "metadata": {},
   "outputs": [],
   "source": [
    "button = widgets.Button(\n",
    "    description='Submit',\n",
    "    disabled=False,\n",
    "    button_style='info',\n",
    "    tooltip='Submit',\n",
    "    icon='check',\n",
    "    layout=Layout(left='150px')\n",
    ")"
   ]
  },
  {
   "cell_type": "code",
   "execution_count": 16,
   "id": "lonely-generation",
   "metadata": {},
   "outputs": [],
   "source": [
    "def reset_form():\n",
    "    ID_input.value=0\n",
    "    # Organisation value not reset as no real \"default\"\n",
    "    Age_input.value=0\n",
    "    LOS_input.value=0\n",
    "    Dead_input.value='Alive'\n",
    "    Consent_input.value=False\n",
    "\n",
    "# button.on_click passes in an argument  which is not needed in this function (so is given as _ here)\n",
    "def add_row(_):\n",
    "    global CollectData\n",
    "    # deep copy of empty row\n",
    "    new_row=pd.DataFrame.copy(dfTofill)\n",
    "    \n",
    "    # get the form inputs in a list ordered as the columns\n",
    "    inputs=[ID_input.value,Organisation_input.value,Age_input.value,LOS_input.value,Dead_input.value,Consent_input.value]\n",
    "    \n",
    "    # iterate over each column and value, and enter into new row\n",
    "    for i,value in enumerate(inputs):\n",
    "        new_row.iloc[0,i]=value\n",
    "    \n",
    "    # append onto the main dataframe\n",
    "    CollectData  = pd.concat([CollectData, new_row])\n",
    "    \n",
    "    # reset form values\n",
    "    reset_form()\n",
    "    \n",
    "    # Update displayed table (starting from index 1 to miss the initialising row at index 0)\n",
    "    display_collected.update(CollectData[1:])\n",
    "\n",
    "# Add the add_row callback function onto button click\n",
    "button.on_click(add_row)"
   ]
  },
  {
   "cell_type": "markdown",
   "id": "covered-effects",
   "metadata": {},
   "source": [
    "# Consent\n",
    "Consent is a vital area for data protection compliance. Consent means giving data subjects genuine choice and control over how you process their data. If the data subject has no real choice, consent is not freely given, and it will be invalid. The [General Data Protection Regulation](https://eu01.alma.exlibrisgroup.com/leganto/public/44UOE_INST/citation/37632538310002466?auth=SAML) sets a high standard for consent and contains significantly more detail than previous data protection legislation. Consent is defined in Article 4 as: “Consent of the data subject means any freely given, specific informed and unambiguous indication of the data subject’s wishes by which he or she, by a statement or by a clear affirmative action, signifies agreement to the processing of personal data relating to him or her”.\n",
    "\n",
    "Before data is collected, the end-user must consent to the processing and sharing the data collected with this data capture tool."
   ]
  },
  {
   "cell_type": "code",
   "execution_count": 17,
   "id": "compact-worship",
   "metadata": {
    "scrolled": true,
    "tags": [
     "hide-input"
    ]
   },
   "outputs": [
    {
     "data": {
      "application/vnd.jupyter.widget-view+json": {
       "model_id": "a7814af1bbfe4f0fafad12497aabe76d",
       "version_major": 2,
       "version_minor": 0
      },
      "text/plain": [
       "HBox(children=(Textarea(value='I consent for the data I have provided to be processed and shared in accordance…"
      ]
     },
     "metadata": {},
     "output_type": "display_data"
    }
   ],
   "source": [
    "display(consent)"
   ]
  },
  {
   "cell_type": "markdown",
   "id": "animated-affiliation",
   "metadata": {},
   "source": [
    "## Enter data below:"
   ]
  },
  {
   "cell_type": "code",
   "execution_count": 24,
   "id": "changed-cathedral",
   "metadata": {},
   "outputs": [],
   "source": [
    "#marker = CollectData=pd.read_csv(\"../Data/LOS_test_marker.csv\")\n",
    "#marker"
   ]
  },
  {
   "cell_type": "code",
   "execution_count": 19,
   "id": "comfortable-lighter",
   "metadata": {},
   "outputs": [
    {
     "data": {
      "application/vnd.jupyter.widget-view+json": {
       "model_id": "ba28a31844664e849a13a0d61fda142f",
       "version_major": 2,
       "version_minor": 0
      },
      "text/plain": [
       "BoundedIntText(value=0, description='ID :', max=99999, style=DescriptionStyle(description_width='100px'))"
      ]
     },
     "metadata": {},
     "output_type": "display_data"
    },
    {
     "data": {
      "application/vnd.jupyter.widget-view+json": {
       "model_id": "86b6df61281c48e9a42e477e4312d9da",
       "version_major": 2,
       "version_minor": 0
      },
      "text/plain": [
       "Dropdown(description='Organisation :', options=('Trust1', 'Trust2', 'Trust3', 'Trust4', 'Trust5', 'Trust6', 'T…"
      ]
     },
     "metadata": {},
     "output_type": "display_data"
    },
    {
     "data": {
      "application/vnd.jupyter.widget-view+json": {
       "model_id": "fe2251c63377460592f5a61eb35aedf9",
       "version_major": 2,
       "version_minor": 0
      },
      "text/plain": [
       "BoundedIntText(value=0, description='Age (Yrs) :', max=150, style=DescriptionStyle(description_width='100px'))"
      ]
     },
     "metadata": {},
     "output_type": "display_data"
    },
    {
     "data": {
      "application/vnd.jupyter.widget-view+json": {
       "model_id": "f68690fa607b46e784cd733663b672c2",
       "version_major": 2,
       "version_minor": 0
      },
      "text/plain": [
       "BoundedIntText(value=0, description='Length of Stay :', style=DescriptionStyle(description_width='100px'))"
      ]
     },
     "metadata": {},
     "output_type": "display_data"
    },
    {
     "data": {
      "application/vnd.jupyter.widget-view+json": {
       "model_id": "cfc3546189e2490c84862ab740b5198c",
       "version_major": 2,
       "version_minor": 0
      },
      "text/plain": [
       "Dropdown(description='Status :', options=('Alive', 'Died'), style=DescriptionStyle(description_width='100px'),…"
      ]
     },
     "metadata": {},
     "output_type": "display_data"
    },
    {
     "data": {
      "application/vnd.jupyter.widget-view+json": {
       "model_id": "ad41b80bca604913a51ba442047aea59",
       "version_major": 2,
       "version_minor": 0
      },
      "text/plain": [
       "Button(button_style='info', description='Submit', icon='check', layout=Layout(left='150px'), style=ButtonStyle…"
      ]
     },
     "metadata": {},
     "output_type": "display_data"
    },
    {
     "data": {
      "text/html": [
       "<div>\n",
       "<style scoped>\n",
       "    .dataframe tbody tr th:only-of-type {\n",
       "        vertical-align: middle;\n",
       "    }\n",
       "\n",
       "    .dataframe tbody tr th {\n",
       "        vertical-align: top;\n",
       "    }\n",
       "\n",
       "    .dataframe thead th {\n",
       "        text-align: right;\n",
       "    }\n",
       "</style>\n",
       "<table border=\"1\" class=\"dataframe\">\n",
       "  <thead>\n",
       "    <tr style=\"text-align: right;\">\n",
       "      <th></th>\n",
       "      <th>ID</th>\n",
       "      <th>Organisation</th>\n",
       "      <th>Age</th>\n",
       "      <th>LOS</th>\n",
       "      <th>Death</th>\n",
       "      <th>consent</th>\n",
       "    </tr>\n",
       "  </thead>\n",
       "  <tbody>\n",
       "    <tr>\n",
       "      <th>1</th>\n",
       "      <td>9</td>\n",
       "      <td>Trust9</td>\n",
       "      <td>51</td>\n",
       "      <td>7</td>\n",
       "      <td>Died</td>\n",
       "      <td>True</td>\n",
       "    </tr>\n",
       "    <tr>\n",
       "      <th>2</th>\n",
       "      <td>46</td>\n",
       "      <td>Trust6</td>\n",
       "      <td>49</td>\n",
       "      <td>7</td>\n",
       "      <td>Alive</td>\n",
       "      <td>True</td>\n",
       "    </tr>\n",
       "    <tr>\n",
       "      <th>3</th>\n",
       "      <td>112</td>\n",
       "      <td>Trust2</td>\n",
       "      <td>19</td>\n",
       "      <td>3</td>\n",
       "      <td>Alive</td>\n",
       "      <td>True</td>\n",
       "    </tr>\n",
       "    <tr>\n",
       "      <th>4</th>\n",
       "      <td>114</td>\n",
       "      <td>Trust4</td>\n",
       "      <td>23</td>\n",
       "      <td>3</td>\n",
       "      <td>Alive</td>\n",
       "      <td>True</td>\n",
       "    </tr>\n",
       "    <tr>\n",
       "      <th>5</th>\n",
       "      <td>135</td>\n",
       "      <td>Trust5</td>\n",
       "      <td>93</td>\n",
       "      <td>10</td>\n",
       "      <td>Alive</td>\n",
       "      <td>True</td>\n",
       "    </tr>\n",
       "    <tr>\n",
       "      <th>6</th>\n",
       "      <td>187</td>\n",
       "      <td>Trust7</td>\n",
       "      <td>33</td>\n",
       "      <td>4</td>\n",
       "      <td>Died</td>\n",
       "      <td>True</td>\n",
       "    </tr>\n",
       "    <tr>\n",
       "      <th>7</th>\n",
       "      <td>204</td>\n",
       "      <td>Trust4</td>\n",
       "      <td>27</td>\n",
       "      <td>2</td>\n",
       "      <td>Alive</td>\n",
       "      <td>True</td>\n",
       "    </tr>\n",
       "    <tr>\n",
       "      <th>8</th>\n",
       "      <td>213</td>\n",
       "      <td>Trust3</td>\n",
       "      <td>48</td>\n",
       "      <td>5</td>\n",
       "      <td>Alive</td>\n",
       "      <td>True</td>\n",
       "    </tr>\n",
       "    <tr>\n",
       "      <th>9</th>\n",
       "      <td>244</td>\n",
       "      <td>Trust4</td>\n",
       "      <td>76</td>\n",
       "      <td>9</td>\n",
       "      <td>Alive</td>\n",
       "      <td>True</td>\n",
       "    </tr>\n",
       "    <tr>\n",
       "      <th>10</th>\n",
       "      <td>260</td>\n",
       "      <td>Trust10</td>\n",
       "      <td>11</td>\n",
       "      <td>1</td>\n",
       "      <td>Alive</td>\n",
       "      <td>True</td>\n",
       "    </tr>\n",
       "    <tr>\n",
       "      <th>11</th>\n",
       "      <td>267</td>\n",
       "      <td>Trust7</td>\n",
       "      <td>79</td>\n",
       "      <td>10</td>\n",
       "      <td>Alive</td>\n",
       "      <td>True</td>\n",
       "    </tr>\n",
       "  </tbody>\n",
       "</table>\n",
       "</div>"
      ],
      "text/plain": [
       "     ID Organisation  Age  LOS  Death  consent\n",
       "1     9       Trust9   51    7   Died     True\n",
       "2    46       Trust6   49    7  Alive     True\n",
       "3   112       Trust2   19    3  Alive     True\n",
       "4   114       Trust4   23    3  Alive     True\n",
       "5   135       Trust5   93   10  Alive     True\n",
       "6   187       Trust7   33    4   Died     True\n",
       "7   204       Trust4   27    2  Alive     True\n",
       "8   213       Trust3   48    5  Alive     True\n",
       "9   244       Trust4   76    9  Alive     True\n",
       "10  260      Trust10   11    1  Alive     True\n",
       "11  267       Trust7   79   10  Alive     True"
      ]
     },
     "metadata": {},
     "output_type": "display_data"
    }
   ],
   "source": [
    "display(ID_input,Organisation_input, Age_input,LOS_input,Dead_input,button)\n",
    "display_collected = display(CollectData[1:],display_id=True)\n"
   ]
  },
  {
   "cell_type": "markdown",
   "id": "alert-milton",
   "metadata": {},
   "source": [
    "### Filter for consent status\n",
    "\n",
    "After completing data entry: rows without consent are removed before saving to a folder."
   ]
  },
  {
   "cell_type": "code",
   "execution_count": 20,
   "id": "married-columbia",
   "metadata": {},
   "outputs": [],
   "source": [
    "CollectData=CollectData[CollectData['consent'] == True]"
   ]
  },
  {
   "cell_type": "markdown",
   "id": "above-league",
   "metadata": {},
   "source": [
    "### Saving the CollectData data frame\n",
    "Saving the data collected by your data-capture tool to the working data folder:"
   ]
  },
  {
   "cell_type": "code",
   "execution_count": 21,
   "id": "undefined-bristol",
   "metadata": {},
   "outputs": [],
   "source": [
    "CollectData.to_csv('../Data/CollectedData.csv', index=False)"
   ]
  },
  {
   "cell_type": "markdown",
   "id": "banned-basic",
   "metadata": {},
   "source": [
    "That is the CollectData data frame saved to the working 'Data' folder. You need to iterate through this Notebook until you have collected all of your test data and then save the captured test data to your 'RawData' folder."
   ]
  },
  {
   "cell_type": "code",
   "execution_count": 22,
   "id": "integral-basketball",
   "metadata": {},
   "outputs": [],
   "source": [
    "# CollectData.to_csv('../RawData/CollectedDataFinal.csv', index=False)"
   ]
  },
  {
   "cell_type": "markdown",
   "id": "previous-swift",
   "metadata": {},
   "source": [
    "That is the final CollectData data frame saved to the 'RawData' folder. \n",
    "\n",
    "Commented out after completed data colelction.\n"
   ]
  }
 ],
 "metadata": {
  "kernelspec": {
   "display_name": "Python 3 (ipykernel)",
   "language": "python",
   "name": "python3"
  },
  "language_info": {
   "codemirror_mode": {
    "name": "ipython",
    "version": 3
   },
   "file_extension": ".py",
   "mimetype": "text/x-python",
   "name": "python",
   "nbconvert_exporter": "python",
   "pygments_lexer": "ipython3",
   "version": "3.9.2"
  }
 },
 "nbformat": 4,
 "nbformat_minor": 5
}
