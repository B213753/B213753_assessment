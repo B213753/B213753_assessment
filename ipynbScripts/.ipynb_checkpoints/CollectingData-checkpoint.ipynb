{
 "cells": [
  {
   "cell_type": "markdown",
   "id": "pleased-absolute",
   "metadata": {},
   "source": [
    "# Title: Collecting data using interactive Jupyter widgets  \n",
    "**Author:** B213753 \n"
   ]
  },
  {
   "cell_type": "markdown",
   "id": "white-white",
   "metadata": {},
   "source": [
    "# Load pandas and test data"
   ]
  },
  {
   "cell_type": "code",
   "execution_count": 1,
   "id": "frozen-attendance",
   "metadata": {
    "tags": [
     "remove_cell"
    ]
   },
   "outputs": [],
   "source": [
    "#Load the 'pandas' package\n",
    "import pandas as pd\n",
    "testData=pd.read_csv(\"../Data/LOS_test.csv\")"
   ]
  },
  {
   "cell_type": "markdown",
   "id": "specific-location",
   "metadata": {},
   "source": [
    "#### Check data types"
   ]
  },
  {
   "cell_type": "code",
   "execution_count": 2,
   "id": "friendly-pennsylvania",
   "metadata": {
    "tags": [
     "hide-input"
    ]
   },
   "outputs": [
    {
     "data": {
      "text/plain": [
       "ID               int64\n",
       "Organisation    object\n",
       "Age              int64\n",
       "LOS              int64\n",
       "Death           object\n",
       "dtype: object"
      ]
     },
     "execution_count": 2,
     "metadata": {},
     "output_type": "execute_result"
    }
   ],
   "source": [
    "testData.dtypes\n"
   ]
  },
  {
   "cell_type": "markdown",
   "id": "illegal-weekend",
   "metadata": {},
   "source": [
    "### Set up new empty data frame to store captured data"
   ]
  },
  {
   "cell_type": "code",
   "execution_count": 3,
   "id": "residential-index",
   "metadata": {
    "tags": [
     "hide-input"
    ]
   },
   "outputs": [
    {
     "data": {
      "text/html": [
       "<div>\n",
       "<style scoped>\n",
       "    .dataframe tbody tr th:only-of-type {\n",
       "        vertical-align: middle;\n",
       "    }\n",
       "\n",
       "    .dataframe tbody tr th {\n",
       "        vertical-align: top;\n",
       "    }\n",
       "\n",
       "    .dataframe thead th {\n",
       "        text-align: right;\n",
       "    }\n",
       "</style>\n",
       "<table border=\"1\" class=\"dataframe\">\n",
       "  <thead>\n",
       "    <tr style=\"text-align: right;\">\n",
       "      <th></th>\n",
       "      <th>ID</th>\n",
       "      <th>Organisation</th>\n",
       "      <th>Age</th>\n",
       "      <th>LOS</th>\n",
       "      <th>Death</th>\n",
       "      <th>consent</th>\n",
       "    </tr>\n",
       "  </thead>\n",
       "  <tbody>\n",
       "    <tr>\n",
       "      <th>0</th>\n",
       "      <td>-999</td>\n",
       "      <td>NA</td>\n",
       "      <td>0</td>\n",
       "      <td>0</td>\n",
       "      <td>NA</td>\n",
       "      <td>False</td>\n",
       "    </tr>\n",
       "  </tbody>\n",
       "</table>\n",
       "</div>"
      ],
      "text/plain": [
       "    ID Organisation  Age  LOS Death  consent\n",
       "0 -999           NA    0    0    NA    False"
      ]
     },
     "execution_count": 3,
     "metadata": {},
     "output_type": "execute_result"
    }
   ],
   "source": [
    "dfTofill = pd.DataFrame({'ID': [-999], # Integer\n",
    "                   'Organisation': ['NA'], # String\n",
    "                   'Age': [0], # Integer\n",
    "                   'LOS': [0], # Integer\n",
    "                   'Death': ['NA'], # String\n",
    "                   'consent': [False]})  # Boolean\n",
    "\n",
    "dfTofill"
   ]
  },
  {
   "cell_type": "markdown",
   "id": "located-recruitment",
   "metadata": {},
   "source": [
    "Save the empty data frame to your working 'Data' folder:"
   ]
  },
  {
   "cell_type": "code",
   "execution_count": 4,
   "id": "animated-envelope",
   "metadata": {
    "tags": [
     "hide-input"
    ]
   },
   "outputs": [],
   "source": [
    "#dfTofill.to_csv('../Data/CollectedData.csv', index=False)"
   ]
  },
  {
   "cell_type": "markdown",
   "id": "spiritual-comparative",
   "metadata": {},
   "source": [
    "Read the CollectedData.csv data frame to prepare for data collection."
   ]
  },
  {
   "cell_type": "code",
   "execution_count": 5,
   "id": "quantitative-wholesale",
   "metadata": {},
   "outputs": [],
   "source": [
    "CollectData=pd.read_csv(\"../Data/CollectedData.csv\")"
   ]
  },
  {
   "cell_type": "markdown",
   "id": "attempted-understanding",
   "metadata": {},
   "source": [
    "# Using Widgets to collect data\n"
   ]
  },
  {
   "cell_type": "code",
   "execution_count": 6,
   "id": "accredited-contrary",
   "metadata": {},
   "outputs": [],
   "source": [
    "#Load the 'ipywidgets' package\n",
    "from ipywidgets import widgets, Layout\n",
    "\n",
    "#Load the 'IPython.display' package\n",
    "from IPython.display import display"
   ]
  },
  {
   "cell_type": "markdown",
   "id": "found-olive",
   "metadata": {},
   "source": [
    "### Python code below to prepare and format the form\n",
    "\n",
    "#### Consent input"
   ]
  },
  {
   "cell_type": "code",
   "execution_count": 7,
   "id": "impaired-justice",
   "metadata": {
    "tags": [
     "hide-input"
    ]
   },
   "outputs": [],
   "source": [
    "Consent_input = widgets.Checkbox(\n",
    "        value=False,        disabled=False,        indent=False,\n",
    "        layout=Layout(right='20%', border='solid red', width='200px',padding='0 0 0 45%', height='auto'))\n",
    "\n",
    "consent_checkbox = widgets.Box(\n",
    "    [widgets.Label('Consent:',\n",
    "                   layout=Layout(left='25%', overflow='visible', padding='1px 0 0 0')),\n",
    "    Consent_input]\n",
    ")\n",
    "\n",
    "consent_text = widgets.Textarea(\n",
    "    value='I consent for the data I have provided to be processed and shared in accordance with data protection regulations with the purpose of improving care service provision across the UK.',\n",
    "    disabled=True,    layout=Layout(width='80%')\n",
    ")\n",
    "\n",
    "consent = widgets.HBox(\n",
    "    [consent_text,consent_checkbox],\n",
    "    layout=Layout(display='flex',align_items='flex-end', justify_content='center' )\n",
    ")"
   ]
  },
  {
   "cell_type": "markdown",
   "id": "hawaiian-edgar",
   "metadata": {},
   "source": [
    "#### ID input"
   ]
  },
  {
   "cell_type": "code",
   "execution_count": 8,
   "id": "piano-adobe",
   "metadata": {},
   "outputs": [],
   "source": [
    "ID_input= widgets.BoundedIntText(\n",
    "    step=1,    max=99999,    description='ID :',\n",
    "    disabled=False,    style = {'description_width': '100px'}\n",
    ")"
   ]
  },
  {
   "cell_type": "markdown",
   "id": "balanced-conservation",
   "metadata": {},
   "source": [
    "#### Organisation input"
   ]
  },
  {
   "cell_type": "code",
   "execution_count": 9,
   "id": "bearing-england",
   "metadata": {},
   "outputs": [],
   "source": [
    "Organisation_input=widgets.Dropdown(\n",
    "    options=['Trust1', 'Trust2', 'Trust3','Trust4', 'Trust5', 'Trust6','Trust7', 'Trust8', 'Trust9','Trust10'],\n",
    "    value='Trust1',    description='Organisation :',    disabled=False,    style = {'description_width': '100px'}\n",
    ")"
   ]
  },
  {
   "cell_type": "markdown",
   "id": "particular-softball",
   "metadata": {},
   "source": [
    "#### Age input"
   ]
  },
  {
   "cell_type": "code",
   "execution_count": 10,
   "id": "owned-filter",
   "metadata": {},
   "outputs": [],
   "source": [
    "Age_input=widgets.BoundedIntText(\n",
    "    step=1,    min=0,    max=150,    description='Age (Yrs) :',\n",
    "    disabled=False,    style = {'description_width': '100px'}\n",
    ")"
   ]
  },
  {
   "cell_type": "markdown",
   "id": "running-encounter",
   "metadata": {},
   "source": [
    "#### LOS input"
   ]
  },
  {
   "cell_type": "code",
   "execution_count": 11,
   "id": "moving-independence",
   "metadata": {},
   "outputs": [],
   "source": [
    "LOS_input=widgets.BoundedIntText(\n",
    "    step=1,    min=0,    description='Length of Stay :',\n",
    "    disabled=False,    style = {'description_width': '100px'}\n",
    ")"
   ]
  },
  {
   "cell_type": "markdown",
   "id": "metric-sweet",
   "metadata": {},
   "source": [
    "#### Death status input"
   ]
  },
  {
   "cell_type": "code",
   "execution_count": 12,
   "id": "twenty-longitude",
   "metadata": {},
   "outputs": [],
   "source": [
    "Dead_input=widgets.Dropdown(\n",
    "    options=['Alive','Died'],    value='Alive',    description='Status :',\n",
    "    disabled=False,    style = {'description_width': '100px'}\n",
    ")"
   ]
  },
  {
   "cell_type": "markdown",
   "id": "advised-slope",
   "metadata": {},
   "source": [
    "#### Add a submit button to programmatically add a row onto collected data and reset the form"
   ]
  },
  {
   "cell_type": "code",
   "execution_count": 13,
   "id": "hidden-netherlands",
   "metadata": {},
   "outputs": [],
   "source": [
    "button = widgets.Button(\n",
    "    description='Submit',disabled=False,button_style='info',tooltip='Submit',icon='check',layout=Layout(left='150px')\n",
    ")"
   ]
  },
  {
   "cell_type": "code",
   "execution_count": 14,
   "id": "lonely-generation",
   "metadata": {},
   "outputs": [],
   "source": [
    "def reset_form():\n",
    "    ID_input.value=0\n",
    "    # Organisation value not reset as no real \"default\"\n",
    "    Age_input.value=0\n",
    "    LOS_input.value=0\n",
    "    Dead_input.value='Alive'\n",
    "    Consent_input.value=False\n",
    "\n",
    "# button.on_click passes in an argument  which is not needed in this function (so is given as _ here)\n",
    "def add_row(_):\n",
    "    global CollectData\n",
    "    new_row=pd.DataFrame.copy(dfTofill) # deep copy of empty row\n",
    "    inputs=[ID_input.value,Organisation_input.value,Age_input.value,LOS_input.value,Dead_input.value,Consent_input.value]\n",
    "    for i,value in enumerate(inputs):\n",
    "        new_row.iloc[0,i]=value # iterate over each column and value, and enter into new row\n",
    "    CollectData  = pd.concat([CollectData, new_row]) # append onto the main dataframe\n",
    "    reset_form()\n",
    "   \n",
    "    display_collected.update(CollectData[1:])  # Update displayed table below form\n",
    "\n",
    "# Add the add_row callback function onto button click\n",
    "button.on_click(add_row)"
   ]
  },
  {
   "cell_type": "markdown",
   "id": "covered-effects",
   "metadata": {},
   "source": [
    "# Consent\n",
    "Consent is a vital area for data protection compliance. Consent means giving data subjects genuine choice and control over how you process their data. If the data subject has no real choice, consent is not freely given, and it will be invalid. The [General Data Protection Regulation](https://eu01.alma.exlibrisgroup.com/leganto/public/44UOE_INST/citation/37632538310002466?auth=SAML) sets a high standard for consent and contains significantly more detail than previous data protection legislation. Consent is defined in Article 4 as: “Consent of the data subject means any freely given, specific informed and unambiguous indication of the data subject’s wishes by which he or she, by a statement or by a clear affirmative action, signifies agreement to the processing of personal data relating to him or her”.\n",
    "\n",
    "Before data is collected, the end-user must consent to the processing and sharing the data collected with this data capture tool."
   ]
  },
  {
   "cell_type": "code",
   "execution_count": 15,
   "id": "compact-worship",
   "metadata": {
    "scrolled": true,
    "tags": [
     "hide-input"
    ]
   },
   "outputs": [
    {
     "data": {
      "application/vnd.jupyter.widget-view+json": {
       "model_id": "aef3a91b53094c4b827f0243018b8f08",
       "version_major": 2,
       "version_minor": 0
      },
      "text/plain": [
       "HBox(children=(Textarea(value='I consent for the data I have provided to be processed and shared in accordance…"
      ]
     },
     "metadata": {},
     "output_type": "display_data"
    }
   ],
   "source": [
    "display(consent)"
   ]
  },
  {
   "cell_type": "markdown",
   "id": "animated-affiliation",
   "metadata": {},
   "source": [
    "## Enter data below:\n",
    "\n",
    "Thank you for your interest in our project looking into the relationship between length of stay in hospital and factors such as age and outcome of admission (survived vs died). Length of stay is an important metric in determining efficiency of healthcare delivery, and also allows improved allocation of resources. \n",
    "\n",
    "We require your data to fit and improve our models and analyses, so that we can see the effects of age and admission outcome on length of stay in your hospital and others. This data will be processed in accordance to UK data protection regulation. Please make sure you have consent from the data subject and then fill in the form below:"
   ]
  },
  {
   "cell_type": "code",
   "execution_count": 17,
   "id": "comfortable-lighter",
   "metadata": {},
   "outputs": [
    {
     "data": {
      "application/vnd.jupyter.widget-view+json": {
       "model_id": "e376eea612154bf197050a9c9737dedc",
       "version_major": 2,
       "version_minor": 0
      },
      "text/plain": [
       "BoundedIntText(value=0, description='ID :', max=99999, style=DescriptionStyle(description_width='100px'))"
      ]
     },
     "metadata": {},
     "output_type": "display_data"
    },
    {
     "data": {
      "application/vnd.jupyter.widget-view+json": {
       "model_id": "ee8ab15d792e48e1b71076f7a0d25e94",
       "version_major": 2,
       "version_minor": 0
      },
      "text/plain": [
       "Dropdown(description='Organisation :', options=('Trust1', 'Trust2', 'Trust3', 'Trust4', 'Trust5', 'Trust6', 'T…"
      ]
     },
     "metadata": {},
     "output_type": "display_data"
    },
    {
     "data": {
      "application/vnd.jupyter.widget-view+json": {
       "model_id": "942c80fdd2374791ae92f67756a909c8",
       "version_major": 2,
       "version_minor": 0
      },
      "text/plain": [
       "BoundedIntText(value=0, description='Age (Yrs) :', max=150, style=DescriptionStyle(description_width='100px'))"
      ]
     },
     "metadata": {},
     "output_type": "display_data"
    },
    {
     "data": {
      "application/vnd.jupyter.widget-view+json": {
       "model_id": "3e840615332e43468d33137dbc6b1b8d",
       "version_major": 2,
       "version_minor": 0
      },
      "text/plain": [
       "BoundedIntText(value=0, description='Length of Stay :', style=DescriptionStyle(description_width='100px'))"
      ]
     },
     "metadata": {},
     "output_type": "display_data"
    },
    {
     "data": {
      "application/vnd.jupyter.widget-view+json": {
       "model_id": "4b22fb77b4d546b386fbd39e77396564",
       "version_major": 2,
       "version_minor": 0
      },
      "text/plain": [
       "Dropdown(description='Status :', options=('Alive', 'Died'), style=DescriptionStyle(description_width='100px'),…"
      ]
     },
     "metadata": {},
     "output_type": "display_data"
    },
    {
     "data": {
      "application/vnd.jupyter.widget-view+json": {
       "model_id": "4ee03b8e9c75415ca340cd0f04676d9c",
       "version_major": 2,
       "version_minor": 0
      },
      "text/plain": [
       "Button(button_style='info', description='Submit', icon='check', layout=Layout(left='150px'), style=ButtonStyle…"
      ]
     },
     "metadata": {},
     "output_type": "display_data"
    },
    {
     "data": {
      "text/html": [
       "<div>\n",
       "<style scoped>\n",
       "    .dataframe tbody tr th:only-of-type {\n",
       "        vertical-align: middle;\n",
       "    }\n",
       "\n",
       "    .dataframe tbody tr th {\n",
       "        vertical-align: top;\n",
       "    }\n",
       "\n",
       "    .dataframe thead th {\n",
       "        text-align: right;\n",
       "    }\n",
       "</style>\n",
       "<table border=\"1\" class=\"dataframe\">\n",
       "  <thead>\n",
       "    <tr style=\"text-align: right;\">\n",
       "      <th></th>\n",
       "      <th>ID</th>\n",
       "      <th>Organisation</th>\n",
       "      <th>Age</th>\n",
       "      <th>LOS</th>\n",
       "      <th>Death</th>\n",
       "      <th>consent</th>\n",
       "    </tr>\n",
       "  </thead>\n",
       "  <tbody>\n",
       "    <tr>\n",
       "      <th>1</th>\n",
       "      <td>9</td>\n",
       "      <td>Trust9</td>\n",
       "      <td>51</td>\n",
       "      <td>7</td>\n",
       "      <td>Died</td>\n",
       "      <td>True</td>\n",
       "    </tr>\n",
       "    <tr>\n",
       "      <th>2</th>\n",
       "      <td>46</td>\n",
       "      <td>Trust6</td>\n",
       "      <td>49</td>\n",
       "      <td>7</td>\n",
       "      <td>Alive</td>\n",
       "      <td>True</td>\n",
       "    </tr>\n",
       "    <tr>\n",
       "      <th>3</th>\n",
       "      <td>112</td>\n",
       "      <td>Trust2</td>\n",
       "      <td>19</td>\n",
       "      <td>3</td>\n",
       "      <td>Alive</td>\n",
       "      <td>True</td>\n",
       "    </tr>\n",
       "    <tr>\n",
       "      <th>4</th>\n",
       "      <td>114</td>\n",
       "      <td>Trust4</td>\n",
       "      <td>23</td>\n",
       "      <td>3</td>\n",
       "      <td>Alive</td>\n",
       "      <td>True</td>\n",
       "    </tr>\n",
       "    <tr>\n",
       "      <th>5</th>\n",
       "      <td>135</td>\n",
       "      <td>Trust5</td>\n",
       "      <td>93</td>\n",
       "      <td>10</td>\n",
       "      <td>Alive</td>\n",
       "      <td>True</td>\n",
       "    </tr>\n",
       "    <tr>\n",
       "      <th>6</th>\n",
       "      <td>187</td>\n",
       "      <td>Trust7</td>\n",
       "      <td>33</td>\n",
       "      <td>4</td>\n",
       "      <td>Died</td>\n",
       "      <td>True</td>\n",
       "    </tr>\n",
       "    <tr>\n",
       "      <th>7</th>\n",
       "      <td>204</td>\n",
       "      <td>Trust4</td>\n",
       "      <td>27</td>\n",
       "      <td>2</td>\n",
       "      <td>Alive</td>\n",
       "      <td>True</td>\n",
       "    </tr>\n",
       "    <tr>\n",
       "      <th>8</th>\n",
       "      <td>213</td>\n",
       "      <td>Trust3</td>\n",
       "      <td>48</td>\n",
       "      <td>5</td>\n",
       "      <td>Alive</td>\n",
       "      <td>True</td>\n",
       "    </tr>\n",
       "    <tr>\n",
       "      <th>9</th>\n",
       "      <td>244</td>\n",
       "      <td>Trust4</td>\n",
       "      <td>76</td>\n",
       "      <td>9</td>\n",
       "      <td>Alive</td>\n",
       "      <td>True</td>\n",
       "    </tr>\n",
       "    <tr>\n",
       "      <th>10</th>\n",
       "      <td>260</td>\n",
       "      <td>Trust10</td>\n",
       "      <td>11</td>\n",
       "      <td>1</td>\n",
       "      <td>Alive</td>\n",
       "      <td>True</td>\n",
       "    </tr>\n",
       "    <tr>\n",
       "      <th>11</th>\n",
       "      <td>267</td>\n",
       "      <td>Trust7</td>\n",
       "      <td>79</td>\n",
       "      <td>10</td>\n",
       "      <td>Alive</td>\n",
       "      <td>True</td>\n",
       "    </tr>\n",
       "  </tbody>\n",
       "</table>\n",
       "</div>"
      ],
      "text/plain": [
       "     ID Organisation  Age  LOS  Death  consent\n",
       "1     9       Trust9   51    7   Died     True\n",
       "2    46       Trust6   49    7  Alive     True\n",
       "3   112       Trust2   19    3  Alive     True\n",
       "4   114       Trust4   23    3  Alive     True\n",
       "5   135       Trust5   93   10  Alive     True\n",
       "6   187       Trust7   33    4   Died     True\n",
       "7   204       Trust4   27    2  Alive     True\n",
       "8   213       Trust3   48    5  Alive     True\n",
       "9   244       Trust4   76    9  Alive     True\n",
       "10  260      Trust10   11    1  Alive     True\n",
       "11  267       Trust7   79   10  Alive     True"
      ]
     },
     "metadata": {},
     "output_type": "display_data"
    }
   ],
   "source": [
    "display(ID_input,Organisation_input, Age_input,LOS_input,Dead_input,button)\n"
   ]
  },
  {
   "cell_type": "markdown",
   "id": "reasonable-rocket",
   "metadata": {},
   "source": [
    "### Preview collected data:"
   ]
  },
  {
   "cell_type": "code",
   "execution_count": null,
   "id": "matched-mercy",
   "metadata": {},
   "outputs": [],
   "source": [
    "display_collected = display(CollectData[1:],display_id=True)"
   ]
  },
  {
   "cell_type": "markdown",
   "id": "alert-milton",
   "metadata": {},
   "source": [
    "### Filter for consent status\n",
    "\n",
    "After completing data entry: rows without consent are removed before saving to a folder."
   ]
  },
  {
   "cell_type": "code",
   "execution_count": 18,
   "id": "married-columbia",
   "metadata": {},
   "outputs": [],
   "source": [
    "CollectData=CollectData[CollectData['consent'] == True]"
   ]
  },
  {
   "cell_type": "markdown",
   "id": "above-league",
   "metadata": {},
   "source": [
    "### Saving the CollectData data frame\n",
    "Saving the data collected by your data-capture tool to the working data folder:"
   ]
  },
  {
   "cell_type": "code",
   "execution_count": 19,
   "id": "undefined-bristol",
   "metadata": {},
   "outputs": [],
   "source": [
    "CollectData.to_csv('../Data/CollectedData.csv', index=False)"
   ]
  },
  {
   "cell_type": "markdown",
   "id": "banned-basic",
   "metadata": {},
   "source": [
    "That is the CollectData data frame saved to the working 'Data' folder. You need to iterate through this Notebook until you have collected all of your test data and then save the captured test data to your 'RawData' folder."
   ]
  },
  {
   "cell_type": "code",
   "execution_count": 20,
   "id": "integral-basketball",
   "metadata": {},
   "outputs": [],
   "source": [
    "# CollectData.to_csv('../RawData/CollectedDataFinal.csv', index=False)"
   ]
  },
  {
   "cell_type": "markdown",
   "id": "previous-swift",
   "metadata": {},
   "source": [
    "That is the final CollectData data frame saved to the 'RawData' folder. \n"
   ]
  }
 ],
 "metadata": {
  "kernelspec": {
   "display_name": "Python 3 (ipykernel)",
   "language": "python",
   "name": "python3"
  },
  "language_info": {
   "codemirror_mode": {
    "name": "ipython",
    "version": 3
   },
   "file_extension": ".py",
   "mimetype": "text/x-python",
   "name": "python",
   "nbconvert_exporter": "python",
   "pygments_lexer": "ipython3",
   "version": "3.9.2"
  }
 },
 "nbformat": 4,
 "nbformat_minor": 5
}
